{
 "cells": [
  {
   "cell_type": "code",
   "id": "initial_id",
   "metadata": {
    "collapsed": true,
    "ExecuteTime": {
     "end_time": "2025-09-03T01:12:17.530339Z",
     "start_time": "2025-09-03T01:12:17.503159Z"
    }
   },
   "source": [
    "# 리스트 컴프리헨션 (List Comprehension)\n",
    "#\n",
    "# ✅ 개념 및 정의\n",
    "# 리스트 컴프리헨션(List Comprehension)은\n",
    "# 한 줄의 코드로 리스트를 생성하는 문법입니다.\n",
    "\n",
    "#기본 문법\n",
    "# new_list = [표현식 for 항목 in 반복_가능한_객체]\n",
    "\n",
    "#\n",
    "# 기존 for 루프를 사용하는 방식보다 더 간결하고\n",
    "# 빠른 코드 작성이 가능합니다.\n",
    "# 기존 for문 방식\n",
    "squares = []\n",
    "for x in range(1, 6):\n",
    "    squares.append(x**2)\n",
    "\n",
    "print(squares)  # [1, 4, 9, 16, 25]\n",
    "\n",
    "# 리스트 컴프리헨션 방식\n",
    "squares = [x**2 for x in range(1, 6)]\n",
    "print(squares)  # [1, 4, 9, 16, 25]\n"
   ],
   "outputs": [
    {
     "name": "stdout",
     "output_type": "stream",
     "text": [
      "[1, 4, 9, 16, 25]\n",
      "[1, 4, 9, 16, 25]\n"
     ]
    }
   ],
   "execution_count": 1
  },
  {
   "metadata": {
    "ExecuteTime": {
     "end_time": "2025-09-03T01:20:40.191439Z",
     "start_time": "2025-09-03T01:20:40.185869Z"
    }
   },
   "cell_type": "code",
   "source": [
    "# 조건문 이 포함된\n",
    "# 기본 문법\n",
    "# new_list = [표현식 for 항목 in 반복_가능한_객체 if 조건문]\n",
    "even_squares = []\n",
    "for i in range(1, 11):\n",
    "    if i % 2 == 0:  # 짝수인지 확인\n",
    "        even_squares.append(i * i)\n",
    "print(f\"기존 반복문이용해서 출력 : {even_squares}\")\n",
    "\n",
    "# 리스트 컴프리헨션으로 표현시.\n",
    "even_squares = [x * x for x in range(1, 11) if x % 2 == 0]\n",
    "print(f\"리스트 컴프리헨션 이용해서 출력 : {even_squares}\")\n",
    "# 결과: [4, 16, 36, 64, 100]"
   ],
   "id": "9e74cfeac6d79aea",
   "outputs": [
    {
     "name": "stdout",
     "output_type": "stream",
     "text": [
      "기존 반복문이용해서 출력 : [4, 16, 36, 64, 100]\n",
      "리스트 컴프리헨션 이용해서 출력 : [4, 16, 36, 64, 100]\n"
     ]
    }
   ],
   "execution_count": 3
  },
  {
   "metadata": {},
   "cell_type": "code",
   "outputs": [],
   "execution_count": null,
   "source": [
    "# 이중 반복문에서 , 리스트 컴프리헨션\n",
    "# 원래 구조\n",
    "# for x in iterable1:      # 바깥쪽 루프\n",
    "#     for y in iterable2:  # 안쪽 루프\n",
    "#         new_list.append(표현식)\n",
    "# 기본 문법\n",
    "# new_list = [표현식 for x in iterable1 for y in iterable2]\n",
    "# 기본예시,\n",
    "matrix = [[1, 2, 3],\n",
    "          [4, 5, 6],\n",
    "          [7, 8, 9]]\n",
    "flattened_list = []\n",
    "\n",
    "for row in matrix:           # 바깥쪽 루프\n",
    "    for element in row:      # 안쪽 루프\n",
    "        flattened_list.append(element)\n",
    "\n",
    "print(flattened_list)\n",
    "# 결과: [1, 2, 3, 4, 5, 6, 7, 8, 9]\n",
    "\n",
    "#  리스트 컴프리헨션\n",
    "matrix = [[1, 2, 3],\n",
    "          [4, 5, 6],\n",
    "          [7, 8, 9]]\n",
    "\n",
    "flattened_list = [element for row in matrix for element in row]\n",
    "\n",
    "print(flattened_list)\n",
    "# 결과: [1, 2, 3, 4, 5, 6, 7, 8, 9]\n",
    "\n",
    "#"
   ],
   "id": "52b43042514ec4f3"
  },
  {
   "metadata": {},
   "cell_type": "code",
   "outputs": [],
   "execution_count": null,
   "source": [
    "#예시2\n",
    "colors = ['빨강', '파랑']\n",
    "sizes = ['S', 'M', 'L']\n",
    "\n",
    "combinations = [(color, size) for color in colors for size in sizes]\n",
    "\n",
    "print(combinations)\n",
    "# 결과: [('빨강', 'S'), ('빨강', 'M'), ('빨강', 'L'), ('파랑', 'S'), ('파랑', 'M'), ('파랑', 'L')]"
   ],
   "id": "ee95bd3ecb10230d"
  },
  {
   "metadata": {
    "ExecuteTime": {
     "end_time": "2025-09-03T01:38:37.441671Z",
     "start_time": "2025-09-03T01:38:37.437263Z"
    }
   },
   "cell_type": "code",
   "source": [
    "# 2차원 리스트에서\n",
    "# 기본 문법\n",
    "# 전\n",
    "matrix = []\n",
    "# 바깥쪽 루프 (행을 제어)\n",
    "for i in range(3):\n",
    "    row = []\n",
    "    # 안쪽 루프 (각 행의 열을 제어)\n",
    "    for j in range(4):\n",
    "        row.append(0)\n",
    "    matrix.append(row)\n",
    "# 후\n",
    "# [[안쪽 컴프리헨션] for 바깥쪽 루프]\n",
    "matrix = [[0 for j in range(4)] for i in range(3)]\n",
    "print(matrix)"
   ],
   "id": "3872c5a85dd042a",
   "outputs": [
    {
     "name": "stdout",
     "output_type": "stream",
     "text": [
      "[[0, 0, 0, 0], [0, 0, 0, 0], [0, 0, 0, 0]]\n"
     ]
    }
   ],
   "execution_count": 5
  },
  {
   "metadata": {
    "ExecuteTime": {
     "end_time": "2025-09-03T01:50:46.375605Z",
     "start_time": "2025-09-03T01:50:44.304859Z"
    }
   },
   "cell_type": "code",
   "source": [
    "import time\n",
    "\n",
    "# 처리할 데이터 크기\n",
    "NUM_ELEMENTS = 10_000_000\n",
    "\n",
    "# 1. 일반적인 for문 사용\n",
    "start_time = time.time()\n",
    "result_for_loop = []\n",
    "for i in range(NUM_ELEMENTS):\n",
    "    result_for_loop.append(i * i)\n",
    "end_time = time.time()\n",
    "\n",
    "print(f\"일반 for문 실행 시간: {end_time - start_time:.5f}초\")\n",
    "\n",
    "\n",
    "# 2. 리스트 컴프리헨션 사용\n",
    "start_time = time.time()\n",
    "result_comprehension = [i * i for i in range(NUM_ELEMENTS)]\n",
    "end_time = time.time()\n",
    "\n",
    "print(f\"리스트 컴프리헨션 실행 시간: {end_time - start_time:.5f}초\")"
   ],
   "id": "7874df003db31c9d",
   "outputs": [
    {
     "name": "stdout",
     "output_type": "stream",
     "text": [
      "일반 for문 실행 시간: 1.31220초\n",
      "리스트 컴프리헨션 실행 시간: 0.75064초\n"
     ]
    }
   ],
   "execution_count": 6
  }
 ],
 "metadata": {
  "kernelspec": {
   "display_name": "Python 3",
   "language": "python",
   "name": "python3"
  },
  "language_info": {
   "codemirror_mode": {
    "name": "ipython",
    "version": 2
   },
   "file_extension": ".py",
   "mimetype": "text/x-python",
   "name": "python",
   "nbconvert_exporter": "python",
   "pygments_lexer": "ipython2",
   "version": "2.7.6"
  }
 },
 "nbformat": 4,
 "nbformat_minor": 5
}
