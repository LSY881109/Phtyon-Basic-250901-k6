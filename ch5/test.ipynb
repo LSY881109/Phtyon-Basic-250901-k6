{
 "cells": [
  {
   "cell_type": "code",
   "id": "initial_id",
   "metadata": {
    "collapsed": true,
    "ExecuteTime": {
     "end_time": "2025-09-03T01:12:17.530339Z",
     "start_time": "2025-09-03T01:12:17.503159Z"
    }
   },
   "source": [
    "# 리스트 컴프리헨션 (List Comprehension)\n",
    "#\n",
    "# ✅ 개념 및 정의\n",
    "# 리스트 컴프리헨션(List Comprehension)은\n",
    "# 한 줄의 코드로 리스트를 생성하는 문법입니다.\n",
    "#\n",
    "# 기존 for 루프를 사용하는 방식보다 더 간결하고\n",
    "# 빠른 코드 작성이 가능합니다.\n",
    "# 기존 for문 방식\n",
    "squares = []\n",
    "for x in range(1, 6):\n",
    "    squares.append(x**2)\n",
    "\n",
    "print(squares)  # [1, 4, 9, 16, 25]\n",
    "\n",
    "# 리스트 컴프리헨션 방식\n",
    "squares = [x**2 for x in range(1, 6)]\n",
    "print(squares)  # [1, 4, 9, 16, 25]\n"
   ],
   "outputs": [
    {
     "name": "stdout",
     "output_type": "stream",
     "text": [
      "[1, 4, 9, 16, 25]\n",
      "[1, 4, 9, 16, 25]\n"
     ]
    }
   ],
   "execution_count": 1
  }
 ],
 "metadata": {
  "kernelspec": {
   "display_name": "Python 3",
   "language": "python",
   "name": "python3"
  },
  "language_info": {
   "codemirror_mode": {
    "name": "ipython",
    "version": 2
   },
   "file_extension": ".py",
   "mimetype": "text/x-python",
   "name": "python",
   "nbconvert_exporter": "python",
   "pygments_lexer": "ipython2",
   "version": "2.7.6"
  }
 },
 "nbformat": 4,
 "nbformat_minor": 5
}
