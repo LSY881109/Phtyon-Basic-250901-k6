{
 "cells": [
  {
   "cell_type": "code",
   "execution_count": null,
   "id": "initial_id",
   "metadata": {
    "collapsed": true
   },
   "outputs": [],
   "source": [
    "# 파이썬 클래스(Class) 기본 개념\n",
    "# **클래스(Class)**는\n",
    "# 객체를 만들어 내기 위한 '설계도'\n",
    "# 또는 **'틀'**이라고 생각하시면 쉬워요.\n",
    "# 📏 예를 들어 '빵틀'이 있다면,\n",
    "# 그 빵틀을 이용해 똑같은 모양의 '빵'을 여러 개 만들어 낼 수 있겠죠?\n",
    "# 여기서 **클래스는 '빵틀'**에 해당하고, 만들어진 각각의\n",
    "# **빵은 '객체(Object)'**에 해당합니다.\n",
    "#\n",
    "# 클래스 (Class):\n",
    "# 객체가 가져야 할 속성(데이터, 변수)과 행동(기능, 함수)을 정의한 것.\n",
    "#\n",
    "# 객체 (Object) 또는 인스턴스 (Instance):\n",
    "# 클래스라는 설계도를 바탕으로 실제 메모리에 만들어진 실체.\n",
    "# 클래스로부터 생성된 객체를 '인스턴스'라고도 부릅니다.\n",
    "#\n",
    "# 속성 (Attribute):\n",
    "# 클래스 내에 정의된 변수로,\n",
    "# 객체의 상태나 데이터를 나타냅니다. (예: 사람의 이름, 나이)\n",
    "#\n",
    "# 메서드 (Method): 클래스 내에 정의된 함수로,\n",
    "# 객체가 수행할 수 있는 동작을 나타냅니다. (예: 사람이 걷다, 말하다)\n",
    "#\n",
    "# 클래스를 사용하면 데이터와 기능을 하나로 묶어 코드를 체계적으로 관리하고 재사용하기 쉬워집니다.\n",
    "\n",
    "\n",
    "#기본문법\n",
    "class 클래스이름:\n",
    "    # 생성자 메서드: 객체가 생성될 때 자동으로 호출됨\n",
    "    def __init__(self, 매개변수1, 매개변수2, ...):\n",
    "        self.속성이름1 = 매개변수1  # 속성(인스턴스 변수) 초기화\n",
    "        self.속성이름2 = 매개변수2\n",
    "        # ...\n",
    "\n",
    "    # 메서드(기능) 정의\n",
    "    def 메서드이름(self, 추가_매개변수, ...):\n",
    "        # 메서드가 수행할 코드\n",
    "        # self.속성이름 을 사용하여 객체의 속성에 접근 가능\n",
    "        pass"
   ]
  },
  {
   "metadata": {},
   "cell_type": "code",
   "outputs": [],
   "execution_count": null,
   "source": [
    "# '사람'에 대한 설계도(클래스)를 만듭니다.\n",
    "class Person:\n",
    "    # 객체를 생성할 때 이름과 나이를 받아 초기화합니다.\n",
    "    def __init__(self, name, age):\n",
    "        self.name = name  # self.name은 이 객체의 이름 속성이 됩니다.\n",
    "        self.age = age    # self.age는 이 객체의 나이 속성이 됩니다.\n",
    "        print(f\"{self.name} 객체가 생성되었습니다.\")\n",
    "\n",
    "    # 자기소개를 하는 메서드(기능)입니다.\n",
    "    def introduce(self):\n",
    "        # self를 이용해 자신의 속성(name, age)에 접근합니다.\n",
    "        print(f\"안녕하세요, 제 이름은 {self.name}이고, 나이는 {self.age}살입니다.\")"
   ],
   "id": "daca42bc9f321012"
  },
  {
   "metadata": {},
   "cell_type": "code",
   "outputs": [],
   "execution_count": null,
   "source": [
    "# Person 클래스를 이용해 첫 번째 사람(객체) 'p1'을 생성합니다.\n",
    "# __init__ 메서드가 자동으로 호출됩니다.\n",
    "p1 = Person(\"홍길동\", 30)\n",
    "\n",
    "# Person 클래스를 이용해 두 번째 사람(객체) 'p2'를 생성합니다.\n",
    "p2 = Person(\"이순신\", 45)\n",
    "\n",
    "# 각 객체의 메서드를 호출합니다.\n",
    "print(\"\\n--- 자기소개 시작 ---\")\n",
    "p1.introduce()  # p1 객체의 introduce 메서드 실행\n",
    "p2.introduce()  # p2 객체의 introduce 메서드 실행\n",
    "\n",
    "# 객체의 속성에 직접 접근할 수도 있습니다.\n",
    "print(f\"\\n첫 번째 사람의 이름은 {p1.name}입니다.\")"
   ],
   "id": "cb540d5d73ff9a95"
  }
 ],
 "metadata": {
  "kernelspec": {
   "display_name": "Python 3",
   "language": "python",
   "name": "python3"
  },
  "language_info": {
   "codemirror_mode": {
    "name": "ipython",
    "version": 2
   },
   "file_extension": ".py",
   "mimetype": "text/x-python",
   "name": "python",
   "nbconvert_exporter": "python",
   "pygments_lexer": "ipython2",
   "version": "2.7.6"
  }
 },
 "nbformat": 4,
 "nbformat_minor": 5
}
