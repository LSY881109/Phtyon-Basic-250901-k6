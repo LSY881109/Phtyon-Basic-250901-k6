{
 "cells": [
  {
   "cell_type": "code",
   "execution_count": null,
   "id": "initial_id",
   "metadata": {
    "collapsed": true
   },
   "outputs": [],
   "source": [
    "# 파이썬 클래스(Class) 기본 개념\n",
    "# **클래스(Class)**는\n",
    "# 객체를 만들어 내기 위한 '설계도'\n",
    "# 또는 **'틀'**이라고 생각하시면 쉬워요.\n",
    "# 📏 예를 들어 '빵틀'이 있다면,\n",
    "# 그 빵틀을 이용해 똑같은 모양의 '빵'을 여러 개 만들어 낼 수 있겠죠?\n",
    "# 여기서 **클래스는 '빵틀'**에 해당하고, 만들어진 각각의\n",
    "# **빵은 '객체(Object)'**에 해당합니다.\n",
    "#\n",
    "# 클래스 (Class):\n",
    "# 객체가 가져야 할 속성(데이터, 변수)과 행동(기능, 함수)을 정의한 것.\n",
    "#\n",
    "# 객체 (Object) 또는 인스턴스 (Instance):\n",
    "# 클래스라는 설계도를 바탕으로 실제 메모리에 만들어진 실체.\n",
    "# 클래스로부터 생성된 객체를 '인스턴스'라고도 부릅니다.\n",
    "#\n",
    "# 속성 (Attribute):\n",
    "# 클래스 내에 정의된 변수로,\n",
    "# 객체의 상태나 데이터를 나타냅니다. (예: 사람의 이름, 나이)\n",
    "#\n",
    "# 메서드 (Method): 클래스 내에 정의된 함수로,\n",
    "# 객체가 수행할 수 있는 동작을 나타냅니다. (예: 사람이 걷다, 말하다)\n",
    "#\n",
    "# 클래스를 사용하면 데이터와 기능을 하나로 묶어 코드를 체계적으로 관리하고 재사용하기 쉬워집니다.\n",
    "\n",
    "\n",
    "#기본문법\n",
    "class 클래스이름:\n",
    "    # 생성자 메서드: 객체가 생성될 때 자동으로 호출됨\n",
    "    def __init__(self, 매개변수1, 매개변수2, ...):\n",
    "        self.속성이름1 = 매개변수1  # 속성(인스턴스 변수) 초기화\n",
    "        self.속성이름2 = 매개변수2\n",
    "        # ...\n",
    "\n",
    "    # 메서드(기능) 정의\n",
    "    def 메서드이름(self, 추가_매개변수, ...):\n",
    "        # 메서드가 수행할 코드\n",
    "        # self.속성이름 을 사용하여 객체의 속성에 접근 가능\n",
    "        pass"
   ]
  },
  {
   "metadata": {
    "ExecuteTime": {
     "end_time": "2025-09-03T05:28:10.819454Z",
     "start_time": "2025-09-03T05:28:10.814601Z"
    }
   },
   "cell_type": "code",
   "source": [
    "# '사람'에 대한 설계도(클래스)를 만듭니다.\n",
    "class Person:\n",
    "    # 객체를 생성할 때 이름과 나이를 받아 초기화합니다.\n",
    "    def __init__(self, name, age):\n",
    "        self.name = name  # self.name은 이 객체의 이름 속성이 됩니다.\n",
    "        self.age = age    # self.age는 이 객체의 나이 속성이 됩니다.\n",
    "        print(f\"{self.name} 객체가 생성되었습니다.(=생성자를 호출)\")\n",
    "\n",
    "    # 자기소개를 하는 메서드(기능)입니다.\n",
    "    def introduce(self):\n",
    "        # self를 이용해 자신의 속성(name, age)에 접근합니다.\n",
    "        print(f\"안녕하세요, 제 이름은 {self.name}이고, 나이는 {self.age}살입니다.\")\n",
    "\n",
    "    def __str__(self): # 자바의 @Override , toString() 역할이 똑같다. -> @ToString, @Data\n",
    "        return \"해당 클래스의 인스턴스를 호출시 , 나타나는 문자열 메서드입니다.\""
   ],
   "id": "daca42bc9f321012",
   "outputs": [],
   "execution_count": 6
  },
  {
   "metadata": {
    "ExecuteTime": {
     "end_time": "2025-09-03T05:28:13.544862Z",
     "start_time": "2025-09-03T05:28:13.540009Z"
    }
   },
   "cell_type": "code",
   "source": [
    "# Person 클래스를 이용해 첫 번째 사람(객체) 'p1'을 생성합니다.\n",
    "# __init__ 메서드가 자동으로 호출됩니다.\n",
    "p1 = Person(\"홍길동\", 30)\n",
    "\n",
    "# Person 클래스를 이용해 두 번째 사람(객체) 'p2'를 생성합니다.\n",
    "p2 = Person(\"이순신\", 45)\n",
    "\n",
    "# 각 객체의 메서드를 호출합니다.\n",
    "print(\"\\n--- 자기소개 시작 ---\")\n",
    "p1.introduce()  # p1 객체의 introduce 메서드 실행\n",
    "p2.introduce()  # p2 객체의 introduce 메서드 실행\n",
    "\n",
    "# 객체의 속성에 직접 접근할 수도 있습니다.\n",
    "print(f\"\\n첫 번째 사람의 이름은 {p1.name}입니다.\")\n",
    "\n",
    "print(f\"단순 인스턴스 자체를 출력 하는 경우 p1 : \",p1)"
   ],
   "id": "cb540d5d73ff9a95",
   "outputs": [
    {
     "name": "stdout",
     "output_type": "stream",
     "text": [
      "홍길동 객체가 생성되었습니다.(=생성자를 호출)\n",
      "이순신 객체가 생성되었습니다.(=생성자를 호출)\n",
      "\n",
      "--- 자기소개 시작 ---\n",
      "안녕하세요, 제 이름은 홍길동이고, 나이는 30살입니다.\n",
      "안녕하세요, 제 이름은 이순신이고, 나이는 45살입니다.\n",
      "\n",
      "첫 번째 사람의 이름은 홍길동입니다.\n",
      "단순 인스턴스 자체를 출력 하는 경우 p1 :  해당 클래스의 인스턴스를 호출시 , 나타나는 문자열 메서드입니다.\n"
     ]
    }
   ],
   "execution_count": 7
  },
  {
   "metadata": {
    "ExecuteTime": {
     "end_time": "2025-09-03T06:00:08.661260Z",
     "start_time": "2025-09-03T06:00:08.657267Z"
    }
   },
   "cell_type": "code",
   "source": [
    "# 파이썬, 클래스 상속 예시.\n",
    "# is A,\n",
    "# 예) 강아지는 동물이다.\n",
    "\n",
    "# 부모 클래스: 모든 '탈것'의 공통적인 특징을 정의합니다.\n",
    "class Vehicle:\n",
    "    def __init__(self, speed):\n",
    "        self.speed = speed\n",
    "        print(f\"생성자 호출, 인스턴스 생성!!! 탈것이 시속 {self.speed}km로 생성되었습니다.\")\n",
    "\n",
    "    def drive(self):\n",
    "        print(f\"drive 메서드 호출 !!!탈것이 시속 {self.speed}km로 달립니다.\")\n",
    "\n",
    "# 자식 클래스: Vehicle을 상속받아 '자동차'를 정의합니다.\n",
    "class Car(Vehicle):  # 괄호 안에 부모 클래스 이름을 넣어 상속받습니다.\n",
    "    def honk(self):\n",
    "        print(\"honk 메서드 호출 !!!!빵빵! 자동차가 경적을 울립니다.\")"
   ],
   "id": "e988fdc63fc00615",
   "outputs": [],
   "execution_count": 10
  },
  {
   "metadata": {
    "ExecuteTime": {
     "end_time": "2025-09-03T06:00:10.814586Z",
     "start_time": "2025-09-03T06:00:10.808148Z"
    }
   },
   "cell_type": "code",
   "source": [
    "# '자동차' 객체를 생성합니다.\n",
    "# Car 클래스에는 __init__이 없지만, 부모인 Vehicle의 __init__이 호출됩니다.\n",
    "my_car = Car(100)\n",
    "\n",
    "print(\"\\n--- 기능 테스트 ---\")\n",
    "# 부모(Vehicle)로부터 물려받은 메서드 사용\n",
    "my_car.drive()\n",
    "\n",
    "# 자신(Car)에게만 있는 고유한 메서드 사용\n",
    "my_car.honk()\n",
    "\n",
    "# 부모(Vehicle)로부터 물려받은 속성에도 접근 가능\n",
    "print(f\"\\n이 자동차의 현재 속도는 {my_car.speed}km/h 입니다.\")"
   ],
   "id": "660bfbbbda851161",
   "outputs": [
    {
     "name": "stdout",
     "output_type": "stream",
     "text": [
      "생성자 호출, 인스턴스 생성!!! 탈것이 시속 100km로 생성되었습니다.\n",
      "\n",
      "--- 기능 테스트 ---\n",
      "drive 메서드 호출 !!!탈것이 시속 100km로 달립니다.\n",
      "honk 메서드 호출 !!!!빵빵! 자동차가 경적을 울립니다.\n",
      "\n",
      "이 자동차의 현재 속도는 100km/h 입니다.\n"
     ]
    }
   ],
   "execution_count": 11
  },
  {
   "metadata": {
    "ExecuteTime": {
     "end_time": "2025-09-03T06:11:35.005922Z",
     "start_time": "2025-09-03T06:11:35.001508Z"
    }
   },
   "cell_type": "code",
   "source": [
    "#다형성 예시 코드\n",
    "# 부모 클래스: Animal\n",
    "class Animal:\n",
    "    def speak(self):\n",
    "        # 이 메서드는 자식 클래스에서 재정의될 것을 가정합니다.\n",
    "        pass\n",
    "\n",
    "# 자식 클래스: Dog\n",
    "class Dog(Animal):\n",
    "    def speak(self):\n",
    "        return \"멍멍!\"\n",
    "\n",
    "# 자식 클래스: Cat\n",
    "class Cat(Animal):\n",
    "    def speak(self):\n",
    "        return \"야옹~\"\n",
    "\n",
    "# --- 다형성 실행 ---\n",
    "# animals 리스트에는 Animal의 자식 클래스 객체들이 담겨 있습니다.\n",
    "animals = [Dog(), Cat()]\n",
    "\n",
    "# 반복문을 통해 각 동물의 소리를 들어봅니다.\n",
    "for animal in animals:\n",
    "    # animal 변수는 루프마다 Dog 객체였다가 Cat 객체가 됩니다.\n",
    "    # 똑같이 animal.speak()를 호출했지만,\n",
    "    # 실제 객체가 무엇이냐에 따라 다른 결과가 출력됩니다.\n",
    "    print(f\"이 동물의 소리는? {animal.speak()}\")"
   ],
   "id": "400d6218ac9b52a8",
   "outputs": [
    {
     "name": "stdout",
     "output_type": "stream",
     "text": [
      "이 동물의 소리는? 멍멍!\n",
      "이 동물의 소리는? 야옹~\n"
     ]
    }
   ],
   "execution_count": 12
  }
 ],
 "metadata": {
  "kernelspec": {
   "display_name": "Python 3",
   "language": "python",
   "name": "python3"
  },
  "language_info": {
   "codemirror_mode": {
    "name": "ipython",
    "version": 2
   },
   "file_extension": ".py",
   "mimetype": "text/x-python",
   "name": "python",
   "nbconvert_exporter": "python",
   "pygments_lexer": "ipython2",
   "version": "2.7.6"
  }
 },
 "nbformat": 4,
 "nbformat_minor": 5
}
