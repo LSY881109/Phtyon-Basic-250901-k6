{
 "cells": [
  {
   "metadata": {
    "ExecuteTime": {
     "end_time": "2025-09-01T07:17:35.130665Z",
     "start_time": "2025-09-01T07:17:35.126274Z"
    }
   },
   "cell_type": "code",
   "source": [
    "#참조에 의한 호출, 3장 9페이지,\n",
    "# 매개변수에, 리스트를 받을 경우,\n",
    "def spam(eggs):\n",
    "    print(f\"eggs의 id(메모리위치주솟값 정수로표현) : {id(eggs)}\")\n",
    "    eggs.append(1) # [0,1] : 임시로 0x100\n",
    "    print(f\"eggs.append(1) 후, eggs의 id2(메모리위치주솟값 정수로표현) : {id(eggs)}\")\n",
    "    eggs = [2,3] # 새로운 객체(임시로0x200)를 재할당!!!, 중요.\n",
    "    print(f\"eggs = [2,3] 후, eggs의 id3(메모리위치주솟값 정수로표현) :{id(eggs)}\")\n",
    "\n",
    "#함수 사용.\n",
    "ham = [0] # 요소가 0인 리스트 준비\n",
    "print(f\"spam(ham)호출 하기 전의 ham의 id(메모리위치주솟값 정수로표현) : {id(ham)}\")\n",
    "spam(ham)\n",
    "print(f\"spam(ham)호출 하기 후의 ham의 id(메모리위치주솟값 정수로표현) : {id(ham)}\")"
   ],
   "id": "dcbc2abf79894fec",
   "outputs": [
    {
     "name": "stdout",
     "output_type": "stream",
     "text": [
      "spam(ham)호출 하기 전의 ham의 id(메모리위치주솟값 정수로표현) : 2411148986240\n",
      "eggs의 id(메모리위치주솟값 정수로표현) : 2411148986240\n",
      "eggs.append(1) 후, eggs의 id2(메모리위치주솟값 정수로표현) : 2411148986240\n",
      "eggs = [2,3] 후, eggs의 id3(메모리위치주솟값 정수로표현) :2411149080896\n",
      "spam(ham)호출 하기 후의 ham의 id(메모리위치주솟값 정수로표현) : 2411148986240\n"
     ]
    }
   ],
   "execution_count": 3
  },
  {
   "metadata": {
    "ExecuteTime": {
     "end_time": "2025-09-02T00:37:59.891949Z",
     "start_time": "2025-09-02T00:37:59.881765Z"
    }
   },
   "cell_type": "code",
   "source": [
    "def f():\n",
    "    global s # 키워드 global , 전역으로 변경.\n",
    "    s = \"lsy\" # 원래는 지역 변수\n",
    "    print(s)\n",
    "s = \"abc\"\n",
    "f()\n",
    "print(s)"
   ],
   "id": "8f170209c64de094",
   "outputs": [
    {
     "name": "stdout",
     "output_type": "stream",
     "text": [
      "lsy\n",
      "lsy\n"
     ]
    }
   ],
   "execution_count": 2
  },
  {
   "metadata": {
    "ExecuteTime": {
     "end_time": "2025-09-02T01:08:09.309822Z",
     "start_time": "2025-09-02T01:08:09.303476Z"
    }
   },
   "cell_type": "code",
   "source": [
    "def abc(*a):\n",
    "    x,y,*z = a\n",
    "    return  x,y,z\n",
    "print(abc(1,2,3))\n",
    "print(abc(1,2,3,4))\n",
    "print(abc(1,2,3,4,5))"
   ],
   "id": "bf730536a3166bd4",
   "outputs": [
    {
     "name": "stdout",
     "output_type": "stream",
     "text": [
      "(1, 2, [3])\n",
      "(1, 2, [3, 4])\n",
      "(1, 2, [3, 4, 5])\n"
     ]
    }
   ],
   "execution_count": 3
  },
  {
   "metadata": {
    "ExecuteTime": {
     "end_time": "2025-09-02T01:13:09.404376Z",
     "start_time": "2025-09-02T01:13:09.399373Z"
    }
   },
   "cell_type": "code",
   "source": [
    "def aaa(**keys):\n",
    "    print(keys)\n",
    "    print(f\"value : {keys['first']}\")\n",
    "aaa(first=1, second=2, third=3) # 키워드 가변 인수에서는 인자값을 딕션너리 형태로 입력."
   ],
   "id": "f1f071119b894388",
   "outputs": [
    {
     "name": "stdout",
     "output_type": "stream",
     "text": [
      "{'first': 1, 'second': 2, 'third': 3}\n",
      "value : 1\n"
     ]
    }
   ],
   "execution_count": 4
  },
  {
   "metadata": {
    "ExecuteTime": {
     "end_time": "2025-09-02T01:20:27.522474Z",
     "start_time": "2025-09-02T01:20:27.515668Z"
    }
   },
   "cell_type": "code",
   "source": [
    "str = \"abc\"\n",
    "print(str[0:2:1])\n",
    "print(str[::-1])"
   ],
   "id": "fd7dda5b3f875d03",
   "outputs": [
    {
     "name": "stdout",
     "output_type": "stream",
     "text": [
      "ab\n",
      "cba\n"
     ]
    }
   ],
   "execution_count": 6
  },
  {
   "metadata": {
    "ExecuteTime": {
     "end_time": "2025-09-02T01:33:01.984793Z",
     "start_time": "2025-09-02T01:33:01.973835Z"
    }
   },
   "cell_type": "code",
   "source": [
    "f = open(\"yesterday.txt\",\"r\")\n",
    "yesterday_lyric = f.readlines()\n",
    "f.close()\n",
    "\n",
    "contents = \"\"\n",
    "for line in yesterday_lyric:\n",
    "    contents = contents + line.strip() + \"\\n\"\n",
    "number_of_yesterday = contents.upper().count(\"YESTERDAY\")\n",
    "print(f\"노래 가사에서 yesterday 단어 갯수 확인 : {number_of_yesterday}\")"
   ],
   "id": "b1a41184f398dc4d",
   "outputs": [
    {
     "name": "stdout",
     "output_type": "stream",
     "text": [
      "노래 가사에서 yesterday 단어 갯수 확인 : 9\n"
     ]
    }
   ],
   "execution_count": 7
  }
 ],
 "metadata": {
  "kernelspec": {
   "name": "python3",
   "language": "python",
   "display_name": "Python 3 (ipykernel)"
  }
 },
 "nbformat": 4,
 "nbformat_minor": 5
}
