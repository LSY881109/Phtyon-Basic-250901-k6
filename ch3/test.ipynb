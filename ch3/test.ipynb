{
 "cells": [
  {
   "metadata": {
    "ExecuteTime": {
     "end_time": "2025-09-01T07:16:07.430414Z",
     "start_time": "2025-09-01T07:16:07.425796Z"
    }
   },
   "cell_type": "code",
   "source": [
    "#참조에 의한 호출, 3장 9페이지,\n",
    "# 매개변수에, 리스트를 받을 경우,\n",
    "def spam(eggs):\n",
    "    print(f\"eggs의 id(메모리위치주솟값 정수로표현) : {id(eggs)}\")\n",
    "    eggs.append(1)\n",
    "    print(f\"eggs.append(1) 후, eggs의 id2(메모리위치주솟값 정수로표현) : {id(eggs)}\")\n",
    "    eggs = [2,3] # 새로운 객체를 재할당!!!, 중요.\n",
    "    print(f\"eggs = [2,3] 후, eggs의 id3(메모리위치주솟값 정수로표현) :{id(eggs)}\")\n",
    "\n",
    "#함수 사용.\n",
    "ham = [0] # 요소가 0인 리스트 준비\n",
    "print(f\"spam(ham)호출 하기 전의 ham의 id(메모리위치주솟값 정수로표현) : {id(ham)}\")\n",
    "spam(ham)\n",
    "print(f\"spam(ham)호출 하기 후의 ham의 id(메모리위치주솟값 정수로표현) : {id(ham)}\")"
   ],
   "id": "dcbc2abf79894fec",
   "outputs": [
    {
     "name": "stdout",
     "output_type": "stream",
     "text": [
      "spam(ham)호출 하기 전의 ham의 id(메모리위치주솟값 정수로표현) : [0]\n",
      "eggs의 id(메모리위치주솟값 정수로표현) : 2411149081024\n",
      "eggs.append(1) 후, eggs의 id2(메모리위치주솟값 정수로표현) : 2411149081024\n",
      "eggs = [2,3] 후, eggs의 id3(메모리위치주솟값 정수로표현) :2411148985792\n",
      "spam(ham)호출 하기 후의 ham의 id(메모리위치주솟값 정수로표현) : [0, 1]\n"
     ]
    }
   ],
   "execution_count": 2
  },
  {
   "metadata": {},
   "cell_type": "code",
   "outputs": [],
   "execution_count": null,
   "source": "",
   "id": "8f170209c64de094"
  }
 ],
 "metadata": {
  "kernelspec": {
   "name": "python3",
   "language": "python",
   "display_name": "Python 3 (ipykernel)"
  }
 },
 "nbformat": 4,
 "nbformat_minor": 5
}
