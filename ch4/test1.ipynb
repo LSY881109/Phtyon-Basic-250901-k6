{
 "cells": [
  {
   "cell_type": "code",
   "execution_count": null,
   "id": "initial_id",
   "metadata": {
    "collapsed": true
   },
   "outputs": [],
   "source": [
    "# list 를 함수, push(), pop() 이용해서, 스택처럼 사용해보기.\n",
    "word = input(\"문자열 입력해주세요: \")\n",
    "# input 함수 이용해서, 문자열 받고 , 다시, 문자열 -> 리스로 변환: list() 함수.\n",
    "word_list = list(word)\n",
    "print(f\"word_list : {word_list}\")\n",
    "\n",
    "# 임시로 저장할 빈 리스트, 참고로 전역.\n",
    "result = []\n",
    "# len 함수는 크기를 반환하는 함수.\n",
    "# word_list , pop() 함수로 꺼내서, result 임시 리스트에 담기. 반복문.\n",
    "for _ in range(len(word_list)):\n",
    "  result.append(word_list.pop(0))\n",
    "\n",
    "# 스택의 자료구조 형식을 이용해서 역순 출력\n",
    "print(f\"result 조회 해보기 : {result}\")\n",
    "# 단순, 슬라이싱을 이용해서, 역순 출력.\n",
    "print(f\"word 조회 해보기. [::-1] : {word[::-1]}\")"
   ]
  }
 ],
 "metadata": {
  "kernelspec": {
   "display_name": "Python 3",
   "language": "python",
   "name": "python3"
  },
  "language_info": {
   "codemirror_mode": {
    "name": "ipython",
    "version": 2
   },
   "file_extension": ".py",
   "mimetype": "text/x-python",
   "name": "python",
   "nbconvert_exporter": "python",
   "pygments_lexer": "ipython2",
   "version": "2.7.6"
  }
 },
 "nbformat": 4,
 "nbformat_minor": 5
}
