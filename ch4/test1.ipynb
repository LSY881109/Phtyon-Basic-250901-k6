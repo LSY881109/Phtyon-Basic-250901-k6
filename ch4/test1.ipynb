{
 "cells": [
  {
   "cell_type": "code",
   "id": "initial_id",
   "metadata": {
    "collapsed": true,
    "ExecuteTime": {
     "end_time": "2025-09-02T02:27:35.233030Z",
     "start_time": "2025-09-02T02:27:27.075406Z"
    }
   },
   "source": [
    "# list 를 함수, push(), pop() 이용해서, 스택처럼 사용해보기.\n",
    "word = input(\"문자열 입력해주세요: \")\n",
    "# input 함수 이용해서, 문자열 받고 , 다시, 문자열 -> 리스로 변환: list() 함수.\n",
    "word_list = list(word)\n",
    "print(f\"word_list : {word_list}\")\n",
    "\n",
    "# 임시로 저장할 빈 리스트, 참고로 전역.\n",
    "result = []\n",
    "# len 함수는 크기를 반환하는 함수.\n",
    "# word_list , pop() 함수로 꺼내서, result 임시 리스트에 담기. 반복문.\n",
    "for _ in range(len(word_list)):\n",
    "  result.append(word_list.pop()) # pop() : 스택처럼, pop(0) : 큐처럼\n",
    "\n",
    "# 스택의 자료구조 형식을 이용해서 역순 출력\n",
    "print(f\"result 조회 해보기 : {result}\")\n",
    "# 단순, 슬라이싱을 이용해서, 역순 출력.\n",
    "print(f\"word 조회 해보기. [::-1] : {word[::-1]}\")"
   ],
   "outputs": [
    {
     "name": "stdout",
     "output_type": "stream",
     "text": [
      "word_list : ['오', '늘', ' ', '점', '심', ' ', '뭐', ' ', '먹', '지', '?', '\\n']\n",
      "result 조회 해보기 : ['\\n', '?', '지', '먹', ' ', '뭐', ' ', '심', '점', ' ', '늘', '오']\n",
      "word 조회 해보기. [::-1] : \n",
      "?지먹 뭐 심점 늘오\n"
     ]
    }
   ],
   "execution_count": 2
  },
  {
   "metadata": {
    "ExecuteTime": {
     "end_time": "2025-09-02T02:31:39.023733Z",
     "start_time": "2025-09-02T02:31:39.014146Z"
    }
   },
   "cell_type": "code",
   "source": [
    "a = [1,2,3]\n",
    "a[0] = 100\n",
    "print(a)"
   ],
   "id": "59123c45d250c600",
   "outputs": [
    {
     "name": "stdout",
     "output_type": "stream",
     "text": [
      "[100, 2, 3]\n"
     ]
    }
   ],
   "execution_count": 3
  },
  {
   "metadata": {
    "ExecuteTime": {
     "end_time": "2025-09-02T02:32:14.713927Z",
     "start_time": "2025-09-02T02:32:14.363698Z"
    }
   },
   "cell_type": "code",
   "source": [
    "#튜플은 리스트와 기능이 동일함. 변경 불가.\n",
    "a = (1,2,3)\n",
    "# a[0] = 100\n",
    "print(a)"
   ],
   "id": "b782f864628f8db5",
   "outputs": [
    {
     "ename": "TypeError",
     "evalue": "'tuple' object does not support item assignment",
     "output_type": "error",
     "traceback": [
      "\u001B[1;31m---------------------------------------------------------------------------\u001B[0m",
      "\u001B[1;31mTypeError\u001B[0m                                 Traceback (most recent call last)",
      "Cell \u001B[1;32mIn[4], line 3\u001B[0m\n\u001B[0;32m      1\u001B[0m \u001B[38;5;66;03m#튜플은 리스트와 기능이 동일함. 변결 불가. \u001B[39;00m\n\u001B[0;32m      2\u001B[0m a \u001B[38;5;241m=\u001B[39m (\u001B[38;5;241m1\u001B[39m,\u001B[38;5;241m2\u001B[39m,\u001B[38;5;241m3\u001B[39m)\n\u001B[1;32m----> 3\u001B[0m \u001B[43ma\u001B[49m\u001B[43m[\u001B[49m\u001B[38;5;241;43m0\u001B[39;49m\u001B[43m]\u001B[49m \u001B[38;5;241m=\u001B[39m \u001B[38;5;241m100\u001B[39m\n\u001B[0;32m      4\u001B[0m \u001B[38;5;28mprint\u001B[39m(a)\n",
      "\u001B[1;31mTypeError\u001B[0m: 'tuple' object does not support item assignment"
     ]
    }
   ],
   "execution_count": 4
  },
  {
   "metadata": {
    "ExecuteTime": {
     "end_time": "2025-09-02T02:36:52.931864Z",
     "start_time": "2025-09-02T02:36:52.927148Z"
    }
   },
   "cell_type": "code",
   "source": [
    "# 세트 , 집합 , 1) 중복 불가 2) 집합 연산이 가능. 3) 순서 없음.\n",
    "# 리스트, 세트 간의 타입 변환이 자유롭다.\n",
    "a = [1,1,2,2,3,3]\n",
    "b = set(a)\n",
    "print(b)\n",
    "print(type(b))\n",
    "c = list(b)\n",
    "print(c)\n",
    "print(type(c))\n",
    "d = tuple(c)\n",
    "print(d)\n",
    "print(type(d))"
   ],
   "id": "8b739731c62444a1",
   "outputs": [
    {
     "name": "stdout",
     "output_type": "stream",
     "text": [
      "{1, 2, 3}\n",
      "<class 'set'>\n",
      "[1, 2, 3]\n",
      "<class 'list'>\n",
      "(1, 2, 3)\n",
      "<class 'tuple'>\n"
     ]
    }
   ],
   "execution_count": 7
  },
  {
   "metadata": {
    "ExecuteTime": {
     "end_time": "2025-09-02T02:49:02.357035Z",
     "start_time": "2025-09-02T02:49:02.351088Z"
    }
   },
   "cell_type": "code",
   "source": [
    "dic1 = {\"a\" :1, \"b\":2, \"c\": [100,200,300]}\n",
    "print(dic1[\"a\"])\n",
    "print(dic1[\"b\"])\n",
    "print(dic1[\"c\"])\n",
    "dic1[\"a\"] = 100\n",
    "print(dic1[\"a\"])\n",
    "dic1[\"d\"] = 1000\n",
    "print(dic1[\"d\"])\n",
    "print(dic1.keys())\n",
    "print(dic1.values())\n",
    "print(dic1.items())\n",
    "\n",
    "# 반복자 패턴,\n",
    "for k, v in dic1.items():\n",
    "    print(f\"키 : {k}, 값 : {v}\")\n"
   ],
   "id": "606448634b0d95e7",
   "outputs": [
    {
     "name": "stdout",
     "output_type": "stream",
     "text": [
      "1\n",
      "2\n",
      "[100, 200, 300]\n",
      "100\n",
      "1000\n",
      "dict_keys(['a', 'b', 'c', 'd'])\n",
      "dict_values([100, 2, [100, 200, 300], 1000])\n",
      "dict_items([('a', 100), ('b', 2), ('c', [100, 200, 300]), ('d', 1000)])\n",
      "키 : a, 값 : 100\n",
      "키 : b, 값 : 2\n",
      "키 : c, 값 : [100, 200, 300]\n",
      "키 : d, 값 : 1000\n"
     ]
    }
   ],
   "execution_count": 14
  },
  {
   "metadata": {
    "ExecuteTime": {
     "end_time": "2025-09-02T04:57:29.639148Z",
     "start_time": "2025-09-02T04:57:29.623865Z"
    }
   },
   "cell_type": "code",
   "source": [
    "from collections import deque\n",
    "\n",
    "deque_list = deque()\n",
    "\n",
    " # 0 ~ 4, range(시작,끝, 증가값), 끝값은 미포함\n",
    "for i in range(5):\n",
    "  deque_list.append(i)\n",
    "print(f\"deque_list 출력 : {deque_list}\")\n",
    "\n",
    "# 스택처럼 하나씩 뒤에 값부터 4 꺼내기. pop() 이용\n",
    "deque_list.pop()\n",
    "print(f\"deque_list 출력 : {deque_list}\")\n",
    "\n",
    "# 스택처럼 하나씩 뒤에 값부터 3 꺼내기. pop() 이용\n",
    "deque_list.pop()\n",
    "print(f\"deque_list 출력 : {deque_list}\")"
   ],
   "id": "fab37faeb25ca043",
   "outputs": [
    {
     "name": "stdout",
     "output_type": "stream",
     "text": [
      "deque_list 출력 : deque([0, 1, 2, 3, 4])\n",
      "deque_list 출력 : deque([0, 1, 2, 3])\n",
      "deque_list 출력 : deque([0, 1, 2])\n"
     ]
    }
   ],
   "execution_count": 15
  },
  {
   "metadata": {
    "ExecuteTime": {
     "end_time": "2025-09-02T05:03:15.119991Z",
     "start_time": "2025-09-02T05:03:15.109419Z"
    }
   },
   "cell_type": "code",
   "source": [
    "#deque , 각 요소의 다음 요소의 메모리 위치 주소값을 알고 있다.\n",
    "# 마지막 요소는 , 맨 처음 요소의 메모리 위치 주소값을 알고 있다.\n",
    "# 결론, 처음과 끝이 연결이 된구조가 되고, 이것을 이용해서,\n",
    "# 각 요소를 순회 시킬수 있다.\n",
    "# rotate() 함수를 이용해서, 각 요소를 이동이 가능하다.\n",
    "#deque , 큐처럼 사용하기, appendleft() 함수 이용하기.\n",
    "# 왼쪽부터 입력하게 해서, 들어간 값부터 출력하기. FIFO\n",
    "from collections import deque\n",
    "\n",
    "deque_list = deque()\n",
    "\n",
    " # 0 ~ 4, range(시작,끝, 증가값), 끝값은 미포함\n",
    "for i in range(5):\n",
    "  deque_list.appendleft(i)\n",
    "# 기존에 append 로 추가시, 오른쪽으로 추가했음.\n",
    "# [ 0,1,2,3,4]\n",
    "print(f\"deque_list 출력 : {deque_list}\")\n",
    "# deque_list 출력 : deque([4, 3, 2, 1, 0])\n",
    "\n",
    "# rotate() 함수 이용\n",
    "# 2칸 이동해보기.\n",
    "deque_list.rotate(2)\n",
    "print(f\"deque_list 출력 : {deque_list}\")"
   ],
   "id": "265717d48717dc59",
   "outputs": [
    {
     "name": "stdout",
     "output_type": "stream",
     "text": [
      "deque_list 출력 : deque([4, 3, 2, 1, 0])\n",
      "deque_list 출력 : deque([1, 0, 4, 3, 2])\n"
     ]
    }
   ],
   "execution_count": 16
  }
 ],
 "metadata": {
  "kernelspec": {
   "display_name": "Python 3",
   "language": "python",
   "name": "python3"
  },
  "language_info": {
   "codemirror_mode": {
    "name": "ipython",
    "version": 2
   },
   "file_extension": ".py",
   "mimetype": "text/x-python",
   "name": "python",
   "nbconvert_exporter": "python",
   "pygments_lexer": "ipython2",
   "version": "2.7.6"
  }
 },
 "nbformat": 4,
 "nbformat_minor": 5
}
