{
 "cells": [
  {
   "cell_type": "code",
   "id": "initial_id",
   "metadata": {
    "collapsed": true,
    "ExecuteTime": {
     "end_time": "2025-09-02T02:27:35.233030Z",
     "start_time": "2025-09-02T02:27:27.075406Z"
    }
   },
   "source": [
    "# list 를 함수, push(), pop() 이용해서, 스택처럼 사용해보기.\n",
    "word = input(\"문자열 입력해주세요: \")\n",
    "# input 함수 이용해서, 문자열 받고 , 다시, 문자열 -> 리스로 변환: list() 함수.\n",
    "word_list = list(word)\n",
    "print(f\"word_list : {word_list}\")\n",
    "\n",
    "# 임시로 저장할 빈 리스트, 참고로 전역.\n",
    "result = []\n",
    "# len 함수는 크기를 반환하는 함수.\n",
    "# word_list , pop() 함수로 꺼내서, result 임시 리스트에 담기. 반복문.\n",
    "for _ in range(len(word_list)):\n",
    "  result.append(word_list.pop()) # pop() : 스택처럼, pop(0) : 큐처럼\n",
    "\n",
    "# 스택의 자료구조 형식을 이용해서 역순 출력\n",
    "print(f\"result 조회 해보기 : {result}\")\n",
    "# 단순, 슬라이싱을 이용해서, 역순 출력.\n",
    "print(f\"word 조회 해보기. [::-1] : {word[::-1]}\")"
   ],
   "outputs": [
    {
     "name": "stdout",
     "output_type": "stream",
     "text": [
      "word_list : ['오', '늘', ' ', '점', '심', ' ', '뭐', ' ', '먹', '지', '?', '\\n']\n",
      "result 조회 해보기 : ['\\n', '?', '지', '먹', ' ', '뭐', ' ', '심', '점', ' ', '늘', '오']\n",
      "word 조회 해보기. [::-1] : \n",
      "?지먹 뭐 심점 늘오\n"
     ]
    }
   ],
   "execution_count": 2
  },
  {
   "metadata": {
    "ExecuteTime": {
     "end_time": "2025-09-02T02:31:39.023733Z",
     "start_time": "2025-09-02T02:31:39.014146Z"
    }
   },
   "cell_type": "code",
   "source": [
    "a = [1,2,3]\n",
    "a[0] = 100\n",
    "print(a)"
   ],
   "id": "59123c45d250c600",
   "outputs": [
    {
     "name": "stdout",
     "output_type": "stream",
     "text": [
      "[100, 2, 3]\n"
     ]
    }
   ],
   "execution_count": 3
  },
  {
   "metadata": {
    "ExecuteTime": {
     "end_time": "2025-09-02T02:32:14.713927Z",
     "start_time": "2025-09-02T02:32:14.363698Z"
    }
   },
   "cell_type": "code",
   "source": [
    "#튜플은 리스트와 기능이 동일함. 변경 불가.\n",
    "a = (1,2,3)\n",
    "# a[0] = 100\n",
    "print(a)"
   ],
   "id": "b782f864628f8db5",
   "outputs": [
    {
     "ename": "TypeError",
     "evalue": "'tuple' object does not support item assignment",
     "output_type": "error",
     "traceback": [
      "\u001B[1;31m---------------------------------------------------------------------------\u001B[0m",
      "\u001B[1;31mTypeError\u001B[0m                                 Traceback (most recent call last)",
      "Cell \u001B[1;32mIn[4], line 3\u001B[0m\n\u001B[0;32m      1\u001B[0m \u001B[38;5;66;03m#튜플은 리스트와 기능이 동일함. 변결 불가. \u001B[39;00m\n\u001B[0;32m      2\u001B[0m a \u001B[38;5;241m=\u001B[39m (\u001B[38;5;241m1\u001B[39m,\u001B[38;5;241m2\u001B[39m,\u001B[38;5;241m3\u001B[39m)\n\u001B[1;32m----> 3\u001B[0m \u001B[43ma\u001B[49m\u001B[43m[\u001B[49m\u001B[38;5;241;43m0\u001B[39;49m\u001B[43m]\u001B[49m \u001B[38;5;241m=\u001B[39m \u001B[38;5;241m100\u001B[39m\n\u001B[0;32m      4\u001B[0m \u001B[38;5;28mprint\u001B[39m(a)\n",
      "\u001B[1;31mTypeError\u001B[0m: 'tuple' object does not support item assignment"
     ]
    }
   ],
   "execution_count": 4
  },
  {
   "metadata": {
    "ExecuteTime": {
     "end_time": "2025-09-02T02:36:52.931864Z",
     "start_time": "2025-09-02T02:36:52.927148Z"
    }
   },
   "cell_type": "code",
   "source": [
    "# 세트 , 집합 , 1) 중복 불가 2) 집합 연산이 가능. 3) 순서 없음.\n",
    "# 리스트, 세트 간의 타입 변환이 자유롭다.\n",
    "a = [1,1,2,2,3,3]\n",
    "b = set(a)\n",
    "print(b)\n",
    "print(type(b))\n",
    "c = list(b)\n",
    "print(c)\n",
    "print(type(c))\n",
    "d = tuple(c)\n",
    "print(d)\n",
    "print(type(d))"
   ],
   "id": "8b739731c62444a1",
   "outputs": [
    {
     "name": "stdout",
     "output_type": "stream",
     "text": [
      "{1, 2, 3}\n",
      "<class 'set'>\n",
      "[1, 2, 3]\n",
      "<class 'list'>\n",
      "(1, 2, 3)\n",
      "<class 'tuple'>\n"
     ]
    }
   ],
   "execution_count": 7
  }
 ],
 "metadata": {
  "kernelspec": {
   "display_name": "Python 3",
   "language": "python",
   "name": "python3"
  },
  "language_info": {
   "codemirror_mode": {
    "name": "ipython",
    "version": 2
   },
   "file_extension": ".py",
   "mimetype": "text/x-python",
   "name": "python",
   "nbconvert_exporter": "python",
   "pygments_lexer": "ipython2",
   "version": "2.7.6"
  }
 },
 "nbformat": 4,
 "nbformat_minor": 5
}
