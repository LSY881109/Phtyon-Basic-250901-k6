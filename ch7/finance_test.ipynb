{
 "cells": [
  {
   "cell_type": "code",
   "execution_count": null,
   "id": "initial_id",
   "metadata": {
    "collapsed": true
   },
   "outputs": [],
   "source": [
    "# 실전 예제로 주식 데이터(삼성전자, 카카오, 네이버) 를 활용하여\n",
    "# 주가 변동을 시각화하는 예제를 만들어보겠습니다.\n",
    "#\n",
    "# 이 예제에서는 Matplotlib과 Pandas를 활용하여 다음을 분석합니다:\n",
    "#\n",
    "# 주가 변동 라인 그래프\n",
    "# 삼성전자, 카카오, 네이버의 주가 변동을 하나의 그래프로 시각화합니다.\n",
    "#\n",
    "# 이동 평균선 추가\n",
    "# 단기(5일) 및 장기(20일) 이동 평균선을 추가하여 주가 추세를 분석합니다.\n",
    "#\n",
    "# 히트맵을 통한 상관관계 분석\n",
    "# 삼성전자, 카카오, 네이버의 주가 상관관계를 히트맵으로 표현합니다.\n",
    "#\n",
    "#\n",
    "# 1. 주식 데이터 수집 및 처리\n",
    "# 먼저, 삼성전자(005930), 카카오(035720), 네이버(035420)의 주가 데이터를 가져오겠습니다.\n",
    "# 실시간 주식 데이터를 사용하기 위해, web을 이용하여 최신 데이터를 검색합니다.\n",
    "#\n",
    "# 실전 예제로 삼성전자, 네이버, 카카오의 주가 데이터를 활용하여 주가 변동을 시각화하는 방법을 안내하겠습니다. 이를 통해 주가 변동 추이와 종목 간 상관관계를 분석할 수 있습니다.\n",
    "#\n",
    "#\n",
    "#\n",
    "# 1. 주가 데이터 수집\n",
    "# 주가 데이터를 수집하기 위해 yahoo_fin 라이브러리를 사용합니다. 이 라이브러리는 야후 파이낸스에서 주가 데이터를 가져올 수 있도록 도와줍니다.\n",
    "#\n",
    "# 필요한 라이브러리 설치:\n",
    "# !pip install yahoo_fin pandas matplotlib seaborn"
   ]
  },
  {
   "metadata": {
    "ExecuteTime": {
     "end_time": "2025-09-04T06:56:48.835616Z",
     "start_time": "2025-09-04T06:56:46.761116Z"
    }
   },
   "cell_type": "code",
   "source": [
    "!pip install yahoo_fin pandas matplotlib seaborn\n",
    "!pip install requests_html"
   ],
   "id": "2acc03b385b32e48",
   "outputs": [
    {
     "name": "stdout",
     "output_type": "stream",
     "text": [
      "Defaulting to user installation because normal site-packages is not writeable\n",
      "Requirement already satisfied: yahoo_fin in c:\\users\\it\\appdata\\roaming\\python\\python313\\site-packages (0.8.9.1)\n",
      "Requirement already satisfied: pandas in c:\\users\\it\\appdata\\roaming\\python\\python313\\site-packages (2.2.3)\n",
      "Requirement already satisfied: matplotlib in c:\\users\\it\\appdata\\roaming\\python\\python313\\site-packages (3.10.0)\n",
      "Requirement already satisfied: seaborn in c:\\users\\it\\appdata\\roaming\\python\\python313\\site-packages (0.13.2)\n",
      "Requirement already satisfied: requests-html in c:\\users\\it\\appdata\\roaming\\python\\python313\\site-packages (from yahoo_fin) (0.10.0)\n",
      "Requirement already satisfied: feedparser in c:\\users\\it\\appdata\\roaming\\python\\python313\\site-packages (from yahoo_fin) (6.0.11)\n",
      "Requirement already satisfied: requests in c:\\users\\it\\appdata\\roaming\\python\\python313\\site-packages (from yahoo_fin) (2.32.3)\n",
      "Requirement already satisfied: numpy>=1.26.0 in c:\\users\\it\\appdata\\roaming\\python\\python313\\site-packages (from pandas) (2.2.3)\n",
      "Requirement already satisfied: python-dateutil>=2.8.2 in c:\\users\\it\\appdata\\roaming\\python\\python313\\site-packages (from pandas) (2.9.0.post0)\n",
      "Requirement already satisfied: pytz>=2020.1 in c:\\users\\it\\appdata\\roaming\\python\\python313\\site-packages (from pandas) (2025.1)\n",
      "Requirement already satisfied: tzdata>=2022.7 in c:\\users\\it\\appdata\\roaming\\python\\python313\\site-packages (from pandas) (2025.1)\n",
      "Requirement already satisfied: contourpy>=1.0.1 in c:\\users\\it\\appdata\\roaming\\python\\python313\\site-packages (from matplotlib) (1.3.1)\n",
      "Requirement already satisfied: cycler>=0.10 in c:\\users\\it\\appdata\\roaming\\python\\python313\\site-packages (from matplotlib) (0.12.1)\n",
      "Requirement already satisfied: fonttools>=4.22.0 in c:\\users\\it\\appdata\\roaming\\python\\python313\\site-packages (from matplotlib) (4.56.0)\n",
      "Requirement already satisfied: kiwisolver>=1.3.1 in c:\\users\\it\\appdata\\roaming\\python\\python313\\site-packages (from matplotlib) (1.4.8)\n",
      "Requirement already satisfied: packaging>=20.0 in c:\\users\\it\\appdata\\roaming\\python\\python313\\site-packages (from matplotlib) (24.2)\n",
      "Requirement already satisfied: pillow>=8 in c:\\users\\it\\appdata\\roaming\\python\\python313\\site-packages (from matplotlib) (11.1.0)\n",
      "Requirement already satisfied: pyparsing>=2.3.1 in c:\\users\\it\\appdata\\roaming\\python\\python313\\site-packages (from matplotlib) (3.2.1)\n",
      "Requirement already satisfied: six>=1.5 in c:\\users\\it\\appdata\\roaming\\python\\python313\\site-packages (from python-dateutil>=2.8.2->pandas) (1.17.0)\n",
      "Requirement already satisfied: sgmllib3k in c:\\users\\it\\appdata\\roaming\\python\\python313\\site-packages (from feedparser->yahoo_fin) (1.0.0)\n",
      "Requirement already satisfied: charset-normalizer<4,>=2 in c:\\users\\it\\appdata\\roaming\\python\\python313\\site-packages (from requests->yahoo_fin) (3.4.1)\n",
      "Requirement already satisfied: idna<4,>=2.5 in c:\\users\\it\\appdata\\roaming\\python\\python313\\site-packages (from requests->yahoo_fin) (3.10)\n",
      "Requirement already satisfied: urllib3<3,>=1.21.1 in c:\\users\\it\\appdata\\roaming\\python\\python313\\site-packages (from requests->yahoo_fin) (1.26.20)\n",
      "Requirement already satisfied: certifi>=2017.4.17 in c:\\users\\it\\appdata\\roaming\\python\\python313\\site-packages (from requests->yahoo_fin) (2025.1.31)\n",
      "Requirement already satisfied: pyquery in c:\\users\\it\\appdata\\roaming\\python\\python313\\site-packages (from requests-html->yahoo_fin) (2.0.1)\n",
      "Requirement already satisfied: fake-useragent in c:\\users\\it\\appdata\\roaming\\python\\python313\\site-packages (from requests-html->yahoo_fin) (2.0.3)\n",
      "Requirement already satisfied: parse in c:\\users\\it\\appdata\\roaming\\python\\python313\\site-packages (from requests-html->yahoo_fin) (1.20.2)\n",
      "Requirement already satisfied: bs4 in c:\\users\\it\\appdata\\roaming\\python\\python313\\site-packages (from requests-html->yahoo_fin) (0.0.2)\n",
      "Requirement already satisfied: w3lib in c:\\users\\it\\appdata\\roaming\\python\\python313\\site-packages (from requests-html->yahoo_fin) (2.3.1)\n",
      "Requirement already satisfied: pyppeteer>=0.0.14 in c:\\users\\it\\appdata\\roaming\\python\\python313\\site-packages (from requests-html->yahoo_fin) (2.0.0)\n",
      "Requirement already satisfied: appdirs<2.0.0,>=1.4.3 in c:\\users\\it\\appdata\\roaming\\python\\python313\\site-packages (from pyppeteer>=0.0.14->requests-html->yahoo_fin) (1.4.4)\n",
      "Requirement already satisfied: importlib-metadata>=1.4 in c:\\users\\it\\appdata\\roaming\\python\\python313\\site-packages (from pyppeteer>=0.0.14->requests-html->yahoo_fin) (8.6.1)\n",
      "Requirement already satisfied: pyee<12.0.0,>=11.0.0 in c:\\users\\it\\appdata\\roaming\\python\\python313\\site-packages (from pyppeteer>=0.0.14->requests-html->yahoo_fin) (11.1.1)\n",
      "Requirement already satisfied: tqdm<5.0.0,>=4.42.1 in c:\\users\\it\\appdata\\roaming\\python\\python313\\site-packages (from pyppeteer>=0.0.14->requests-html->yahoo_fin) (4.67.1)\n",
      "Requirement already satisfied: websockets<11.0,>=10.0 in c:\\users\\it\\appdata\\roaming\\python\\python313\\site-packages (from pyppeteer>=0.0.14->requests-html->yahoo_fin) (10.4)\n",
      "Requirement already satisfied: typing-extensions in c:\\users\\it\\appdata\\roaming\\python\\python313\\site-packages (from pyee<12.0.0,>=11.0.0->pyppeteer>=0.0.14->requests-html->yahoo_fin) (4.12.2)\n",
      "Requirement already satisfied: colorama in c:\\users\\it\\appdata\\roaming\\python\\python313\\site-packages (from tqdm<5.0.0,>=4.42.1->pyppeteer>=0.0.14->requests-html->yahoo_fin) (0.4.6)\n",
      "Requirement already satisfied: zipp>=3.20 in c:\\users\\it\\appdata\\roaming\\python\\python313\\site-packages (from importlib-metadata>=1.4->pyppeteer>=0.0.14->requests-html->yahoo_fin) (3.21.0)\n",
      "Requirement already satisfied: beautifulsoup4 in c:\\users\\it\\appdata\\roaming\\python\\python313\\site-packages (from bs4->requests-html->yahoo_fin) (4.13.3)\n",
      "Requirement already satisfied: soupsieve>1.2 in c:\\users\\it\\appdata\\roaming\\python\\python313\\site-packages (from beautifulsoup4->bs4->requests-html->yahoo_fin) (2.6)\n",
      "Requirement already satisfied: lxml>=2.1 in c:\\users\\it\\appdata\\roaming\\python\\python313\\site-packages (from pyquery->requests-html->yahoo_fin) (5.3.1)\n",
      "Requirement already satisfied: cssselect>=1.2.0 in c:\\users\\it\\appdata\\roaming\\python\\python313\\site-packages (from pyquery->requests-html->yahoo_fin) (1.2.0)\n"
     ]
    }
   ],
   "execution_count": 1
  },
  {
   "metadata": {
    "ExecuteTime": {
     "end_time": "2025-09-04T06:59:54.418900Z",
     "start_time": "2025-09-04T06:59:54.034482Z"
    }
   },
   "cell_type": "code",
   "source": [
    "import pandas as pd\n",
    "import matplotlib.pyplot as plt\n",
    "import seaborn as sns\n",
    "from yahoo_fin import stock_info as si\n",
    "\n",
    "# 종목 코드 설정\n",
    "tickers = {\n",
    "    '삼성전자': '005930.KS',\n",
    "    '네이버': '035420.KS',\n",
    "    '카카오': '035720.KS'\n",
    "}\n",
    "\n",
    "# 데이터 수집\n",
    "data = {}\n",
    "for company, ticker in tickers.items():\n",
    "    data[company] = si.get_data(ticker, start_date='2022-01-01', end_date='2025-01-01')"
   ],
   "id": "cbfe3e750832dbb6",
   "outputs": [
    {
     "ename": "JSONDecodeError",
     "evalue": "Expecting value: line 1 column 1 (char 0)",
     "output_type": "error",
     "traceback": [
      "\u001B[1;31m---------------------------------------------------------------------------\u001B[0m",
      "\u001B[1;31mJSONDecodeError\u001B[0m                           Traceback (most recent call last)",
      "File \u001B[1;32m~\\AppData\\Roaming\\Python\\Python313\\site-packages\\requests\\models.py:974\u001B[0m, in \u001B[0;36mResponse.json\u001B[1;34m(self, **kwargs)\u001B[0m\n\u001B[0;32m    973\u001B[0m \u001B[38;5;28;01mtry\u001B[39;00m:\n\u001B[1;32m--> 974\u001B[0m     \u001B[38;5;28;01mreturn\u001B[39;00m \u001B[43mcomplexjson\u001B[49m\u001B[38;5;241;43m.\u001B[39;49m\u001B[43mloads\u001B[49m\u001B[43m(\u001B[49m\u001B[38;5;28;43mself\u001B[39;49m\u001B[38;5;241;43m.\u001B[39;49m\u001B[43mtext\u001B[49m\u001B[43m,\u001B[49m\u001B[43m \u001B[49m\u001B[38;5;241;43m*\u001B[39;49m\u001B[38;5;241;43m*\u001B[39;49m\u001B[43mkwargs\u001B[49m\u001B[43m)\u001B[49m\n\u001B[0;32m    975\u001B[0m \u001B[38;5;28;01mexcept\u001B[39;00m JSONDecodeError \u001B[38;5;28;01mas\u001B[39;00m e:\n\u001B[0;32m    976\u001B[0m     \u001B[38;5;66;03m# Catch JSON-related errors and raise as requests.JSONDecodeError\u001B[39;00m\n\u001B[0;32m    977\u001B[0m     \u001B[38;5;66;03m# This aliases json.JSONDecodeError and simplejson.JSONDecodeError\u001B[39;00m\n",
      "File \u001B[1;32mC:\\Program Files\\Python313\\Lib\\json\\__init__.py:346\u001B[0m, in \u001B[0;36mloads\u001B[1;34m(s, cls, object_hook, parse_float, parse_int, parse_constant, object_pairs_hook, **kw)\u001B[0m\n\u001B[0;32m    343\u001B[0m \u001B[38;5;28;01mif\u001B[39;00m (\u001B[38;5;28mcls\u001B[39m \u001B[38;5;129;01mis\u001B[39;00m \u001B[38;5;28;01mNone\u001B[39;00m \u001B[38;5;129;01mand\u001B[39;00m object_hook \u001B[38;5;129;01mis\u001B[39;00m \u001B[38;5;28;01mNone\u001B[39;00m \u001B[38;5;129;01mand\u001B[39;00m\n\u001B[0;32m    344\u001B[0m         parse_int \u001B[38;5;129;01mis\u001B[39;00m \u001B[38;5;28;01mNone\u001B[39;00m \u001B[38;5;129;01mand\u001B[39;00m parse_float \u001B[38;5;129;01mis\u001B[39;00m \u001B[38;5;28;01mNone\u001B[39;00m \u001B[38;5;129;01mand\u001B[39;00m\n\u001B[0;32m    345\u001B[0m         parse_constant \u001B[38;5;129;01mis\u001B[39;00m \u001B[38;5;28;01mNone\u001B[39;00m \u001B[38;5;129;01mand\u001B[39;00m object_pairs_hook \u001B[38;5;129;01mis\u001B[39;00m \u001B[38;5;28;01mNone\u001B[39;00m \u001B[38;5;129;01mand\u001B[39;00m \u001B[38;5;129;01mnot\u001B[39;00m kw):\n\u001B[1;32m--> 346\u001B[0m     \u001B[38;5;28;01mreturn\u001B[39;00m \u001B[43m_default_decoder\u001B[49m\u001B[38;5;241;43m.\u001B[39;49m\u001B[43mdecode\u001B[49m\u001B[43m(\u001B[49m\u001B[43ms\u001B[49m\u001B[43m)\u001B[49m\n\u001B[0;32m    347\u001B[0m \u001B[38;5;28;01mif\u001B[39;00m \u001B[38;5;28mcls\u001B[39m \u001B[38;5;129;01mis\u001B[39;00m \u001B[38;5;28;01mNone\u001B[39;00m:\n",
      "File \u001B[1;32mC:\\Program Files\\Python313\\Lib\\json\\decoder.py:345\u001B[0m, in \u001B[0;36mJSONDecoder.decode\u001B[1;34m(self, s, _w)\u001B[0m\n\u001B[0;32m    341\u001B[0m \u001B[38;5;250m\u001B[39m\u001B[38;5;124;03m\"\"\"Return the Python representation of ``s`` (a ``str`` instance\u001B[39;00m\n\u001B[0;32m    342\u001B[0m \u001B[38;5;124;03mcontaining a JSON document).\u001B[39;00m\n\u001B[0;32m    343\u001B[0m \n\u001B[0;32m    344\u001B[0m \u001B[38;5;124;03m\"\"\"\u001B[39;00m\n\u001B[1;32m--> 345\u001B[0m obj, end \u001B[38;5;241m=\u001B[39m \u001B[38;5;28;43mself\u001B[39;49m\u001B[38;5;241;43m.\u001B[39;49m\u001B[43mraw_decode\u001B[49m\u001B[43m(\u001B[49m\u001B[43ms\u001B[49m\u001B[43m,\u001B[49m\u001B[43m \u001B[49m\u001B[43midx\u001B[49m\u001B[38;5;241;43m=\u001B[39;49m\u001B[43m_w\u001B[49m\u001B[43m(\u001B[49m\u001B[43ms\u001B[49m\u001B[43m,\u001B[49m\u001B[43m \u001B[49m\u001B[38;5;241;43m0\u001B[39;49m\u001B[43m)\u001B[49m\u001B[38;5;241;43m.\u001B[39;49m\u001B[43mend\u001B[49m\u001B[43m(\u001B[49m\u001B[43m)\u001B[49m\u001B[43m)\u001B[49m\n\u001B[0;32m    346\u001B[0m end \u001B[38;5;241m=\u001B[39m _w(s, end)\u001B[38;5;241m.\u001B[39mend()\n",
      "File \u001B[1;32mC:\\Program Files\\Python313\\Lib\\json\\decoder.py:363\u001B[0m, in \u001B[0;36mJSONDecoder.raw_decode\u001B[1;34m(self, s, idx)\u001B[0m\n\u001B[0;32m    362\u001B[0m \u001B[38;5;28;01mexcept\u001B[39;00m \u001B[38;5;167;01mStopIteration\u001B[39;00m \u001B[38;5;28;01mas\u001B[39;00m err:\n\u001B[1;32m--> 363\u001B[0m     \u001B[38;5;28;01mraise\u001B[39;00m JSONDecodeError(\u001B[38;5;124m\"\u001B[39m\u001B[38;5;124mExpecting value\u001B[39m\u001B[38;5;124m\"\u001B[39m, s, err\u001B[38;5;241m.\u001B[39mvalue) \u001B[38;5;28;01mfrom\u001B[39;00m\u001B[38;5;250m \u001B[39m\u001B[38;5;28;01mNone\u001B[39;00m\n\u001B[0;32m    364\u001B[0m \u001B[38;5;28;01mreturn\u001B[39;00m obj, end\n",
      "\u001B[1;31mJSONDecodeError\u001B[0m: Expecting value: line 1 column 1 (char 0)",
      "\nDuring handling of the above exception, another exception occurred:\n",
      "\u001B[1;31mJSONDecodeError\u001B[0m                           Traceback (most recent call last)",
      "Cell \u001B[1;32mIn[5], line 16\u001B[0m\n\u001B[0;32m     14\u001B[0m data \u001B[38;5;241m=\u001B[39m {}\n\u001B[0;32m     15\u001B[0m \u001B[38;5;28;01mfor\u001B[39;00m company, ticker \u001B[38;5;129;01min\u001B[39;00m tickers\u001B[38;5;241m.\u001B[39mitems():\n\u001B[1;32m---> 16\u001B[0m     data[company] \u001B[38;5;241m=\u001B[39m \u001B[43msi\u001B[49m\u001B[38;5;241;43m.\u001B[39;49m\u001B[43mget_data\u001B[49m\u001B[43m(\u001B[49m\u001B[43mticker\u001B[49m\u001B[43m,\u001B[49m\u001B[43m \u001B[49m\u001B[43mstart_date\u001B[49m\u001B[38;5;241;43m=\u001B[39;49m\u001B[38;5;124;43m'\u001B[39;49m\u001B[38;5;124;43m2022-01-01\u001B[39;49m\u001B[38;5;124;43m'\u001B[39;49m\u001B[43m,\u001B[49m\u001B[43m \u001B[49m\u001B[43mend_date\u001B[49m\u001B[38;5;241;43m=\u001B[39;49m\u001B[38;5;124;43m'\u001B[39;49m\u001B[38;5;124;43m2025-01-01\u001B[39;49m\u001B[38;5;124;43m'\u001B[39;49m\u001B[43m)\u001B[49m\n",
      "File \u001B[1;32m~\\AppData\\Roaming\\Python\\Python313\\site-packages\\yahoo_fin\\stock_info.py:90\u001B[0m, in \u001B[0;36mget_data\u001B[1;34m(ticker, start_date, end_date, index_as_date, interval, headers)\u001B[0m\n\u001B[0;32m     86\u001B[0m resp \u001B[38;5;241m=\u001B[39m requests\u001B[38;5;241m.\u001B[39mget(site, params \u001B[38;5;241m=\u001B[39m params, headers \u001B[38;5;241m=\u001B[39m headers)\n\u001B[0;32m     89\u001B[0m \u001B[38;5;28;01mif\u001B[39;00m \u001B[38;5;129;01mnot\u001B[39;00m resp\u001B[38;5;241m.\u001B[39mok:\n\u001B[1;32m---> 90\u001B[0m     \u001B[38;5;28;01mraise\u001B[39;00m \u001B[38;5;167;01mAssertionError\u001B[39;00m(\u001B[43mresp\u001B[49m\u001B[38;5;241;43m.\u001B[39;49m\u001B[43mjson\u001B[49m\u001B[43m(\u001B[49m\u001B[43m)\u001B[49m)\n\u001B[0;32m     93\u001B[0m \u001B[38;5;66;03m# get JSON response\u001B[39;00m\n\u001B[0;32m     94\u001B[0m data \u001B[38;5;241m=\u001B[39m resp\u001B[38;5;241m.\u001B[39mjson()\n",
      "File \u001B[1;32m~\\AppData\\Roaming\\Python\\Python313\\site-packages\\requests\\models.py:978\u001B[0m, in \u001B[0;36mResponse.json\u001B[1;34m(self, **kwargs)\u001B[0m\n\u001B[0;32m    974\u001B[0m     \u001B[38;5;28;01mreturn\u001B[39;00m complexjson\u001B[38;5;241m.\u001B[39mloads(\u001B[38;5;28mself\u001B[39m\u001B[38;5;241m.\u001B[39mtext, \u001B[38;5;241m*\u001B[39m\u001B[38;5;241m*\u001B[39mkwargs)\n\u001B[0;32m    975\u001B[0m \u001B[38;5;28;01mexcept\u001B[39;00m JSONDecodeError \u001B[38;5;28;01mas\u001B[39;00m e:\n\u001B[0;32m    976\u001B[0m     \u001B[38;5;66;03m# Catch JSON-related errors and raise as requests.JSONDecodeError\u001B[39;00m\n\u001B[0;32m    977\u001B[0m     \u001B[38;5;66;03m# This aliases json.JSONDecodeError and simplejson.JSONDecodeError\u001B[39;00m\n\u001B[1;32m--> 978\u001B[0m     \u001B[38;5;28;01mraise\u001B[39;00m RequestsJSONDecodeError(e\u001B[38;5;241m.\u001B[39mmsg, e\u001B[38;5;241m.\u001B[39mdoc, e\u001B[38;5;241m.\u001B[39mpos)\n",
      "\u001B[1;31mJSONDecodeError\u001B[0m: Expecting value: line 1 column 1 (char 0)"
     ]
    }
   ],
   "execution_count": 5
  }
 ],
 "metadata": {
  "kernelspec": {
   "display_name": "Python 3",
   "language": "python",
   "name": "python3"
  },
  "language_info": {
   "codemirror_mode": {
    "name": "ipython",
    "version": 2
   },
   "file_extension": ".py",
   "mimetype": "text/x-python",
   "name": "python",
   "nbconvert_exporter": "python",
   "pygments_lexer": "ipython2",
   "version": "2.7.6"
  }
 },
 "nbformat": 4,
 "nbformat_minor": 5
}
