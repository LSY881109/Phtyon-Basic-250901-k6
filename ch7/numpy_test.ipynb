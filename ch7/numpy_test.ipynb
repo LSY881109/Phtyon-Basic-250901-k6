{
 "cells": [
  {
   "metadata": {},
   "cell_type": "markdown",
   "source": [
    "NumPy(넘파이)는 'Numerical Python'의 줄임말로,\n",
    "파이썬에서 대규모 다차원 배열과 행렬 연산을 쉽고 빠르게 처리할 수 있도록\n",
    "도와주는 필수적인 라이브러리입니다.\n",
    "🚀 특히 데이터 과학, 머신러닝, 공학 계산 분야에서 핵심적인 역할을 합니다.\n",
    "\n"
   ],
   "id": "a9b253bd1a2f142f"
  },
  {
   "metadata": {},
   "cell_type": "markdown",
   "source": [
    " NumPy를 왜 사용할까요?\n",
    "\n",
    "파이썬의 기본 리스트(list)도 데이터를 담을 수 있지만,\n",
    "수치 계산, 특히 대용량 데이터 처리에서는 속도가 느립니다.\n",
    "\n",
    "1\n",
    "NumPy는 내부적으로 C언어로 구현되어 있어 엄청나게 빠른 연산 속도를 자랑하며,\n",
    "적은 메모리로 데이터를 관리할 수 있습니다.\n",
    "\n",
    "2. 핵심은 ndarray\n",
    "\n",
    "NumPy의 가장 중요한 핵심은 **ndarray (N-dimensional array)**라는\n",
    "다차원 배열 객체입니다. 이 ndarray는 다음과 같은 특징이 있습니다.\n",
    "\n",
    "동일한 자료형:\n",
    "배열의 모든 요소는 같은 자료형(예: 정수, 실수)이어야 합니다.\n",
    "이 덕분에 메모리를 효율적으로 사용하고 연산 속도를 높일 수 있습니다.\n",
    "\n",
    "빠른 연산:\n",
    "배열 전체에 대해 반복문 없이\n",
    "한 번에 연산(벡터화 연산)을 수행할 수 있어\n",
    "코드가 간결해지고 속도가 매우 빠릅니다.\n",
    "\n",
    "다양한 차원: 1차원(벡터), 2차원(행렬), 3차원 이상의 배열도 쉽게 만들 수 있습니다."
   ],
   "id": "5fc53bb3a121af49"
  },
  {
   "metadata": {},
   "cell_type": "markdown",
   "source": [
    "NumPy를 사용하려면 먼저 라이브러리를 설치하고 불러와야 합니다.\n",
    "pip install numpy\n",
    "\n",
    "numpy는 관례적으로 np라는 별칭으로 불러옵니다.\n",
    "import numpy as np"
   ],
   "id": "632e1c18af6267c"
  },
  {
   "metadata": {
    "ExecuteTime": {
     "end_time": "2025-09-04T01:45:53.475679Z",
     "start_time": "2025-09-04T01:45:53.468581Z"
    }
   },
   "cell_type": "code",
   "source": [
    "## 간단한 사용 예시\n",
    "# 1. NumPy 배열 생성\n",
    "# 파이썬 리스트를 np.array() 함수에 전달하여 NumPy 배열을 만듭니다.\n",
    "# 1차원 배열 생성\n",
    "import numpy as np\n",
    "\n",
    "my_list = [1, 2, 3, 4, 5] # 일반리스트\n",
    "print(f\"my_list 타입: {type(my_list)}\")\n",
    "arr1d = np.array(my_list) # 일반리스트 -> 넘파이 형식의 배열로 변환.\n",
    "print(f\"arr1d 타입: {type(arr1d)}\")\n",
    "\n",
    "print(\"1차원 배열:\")\n",
    "print(arr1d)\n",
    "\n",
    "# 2차원 배열 (행렬) 생성\n",
    "my_list2d = [[1, 2, 3],\n",
    "             [4, 5, 6]]\n",
    "print(f\"my_list2d 타입: {type(my_list2d)}\")\n",
    "arr2d = np.array(my_list2d)# 일반리스트 -> 넘파이 형식의 배열로 변환.\n",
    "print(f\"arr2d 타입: {type(arr2d)}\")\n",
    "\n",
    "print(\"\\n2차원 배열:\")\n",
    "print(arr2d)\n",
    "\n",
    "# 배열 정보 확인.\n",
    "# shape, ndim, dtype 등의 속성으로 배열의 정보를 확인할 수 있습니다.\n",
    "print(f\"배열의 모양 (shape): {arr2d.shape}\") # (행, 열)\n",
    "print(f\"배열의 차원 (ndim): {arr2d.ndim}\")\n",
    "print(f\"배열 요소의 자료형 (dtype): {arr2d.dtype}\")"
   ],
   "id": "81ae00d758f2ca49",
   "outputs": [
    {
     "name": "stdout",
     "output_type": "stream",
     "text": [
      "my_list 타입: <class 'list'>\n",
      "arr1d 타입: <class 'numpy.ndarray'>\n",
      "1차원 배열:\n",
      "[1 2 3 4 5]\n",
      "my_list2d 타입: <class 'list'>\n",
      "arr2d 타입: <class 'numpy.ndarray'>\n",
      "\n",
      "2차원 배열:\n",
      "[[1 2 3]\n",
      " [4 5 6]]\n",
      "배열의 모양 (shape): (2, 3)\n",
      "배열의 차원 (ndim): 2\n",
      "배열 요소의 자료형 (dtype): int64\n"
     ]
    }
   ],
   "execution_count": 3
  }
 ],
 "metadata": {
  "kernelspec": {
   "display_name": "Python 3",
   "language": "python",
   "name": "python3"
  },
  "language_info": {
   "codemirror_mode": {
    "name": "ipython",
    "version": 2
   },
   "file_extension": ".py",
   "mimetype": "text/x-python",
   "name": "python",
   "nbconvert_exporter": "python",
   "pygments_lexer": "ipython2",
   "version": "2.7.6"
  }
 },
 "nbformat": 4,
 "nbformat_minor": 5
}
