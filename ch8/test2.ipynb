{
 "cells": [
  {
   "cell_type": "code",
   "id": "initial_id",
   "metadata": {
    "collapsed": true,
    "ExecuteTime": {
     "end_time": "2025-09-05T02:09:12.172847Z",
     "start_time": "2025-09-05T02:09:04.275003Z"
    }
   },
   "source": [
    "from tkinter import Tk, Label, Entry,Button\n",
    "window = Tk()  # 메인 창 생성\n",
    "window.title(\"도서 관리 시스템\")\n",
    "# 창 제목 설정\n",
    "# window.title(\"샘플 tk UI 테스트\")\n",
    "#고정크기\n",
    "# window.resizable(width=False, height=False)\n",
    "window.geometry(\"700x400\")\n",
    "label = Label(window, text=\"도서 제목 입력\")\n",
    "# 텍스트 라벨 생성\n",
    "label.pack()  # 화면에 표시\n",
    "entry = Entry(window, width=20)  # 입력 필드 생성\n",
    "entry.pack()\n",
    "btn = Button(window, text=\"클릭하세요\")\n",
    "btn.pack()\n",
    "window.mainloop()"
   ],
   "outputs": [],
   "execution_count": 4
  },
  {
   "metadata": {
    "ExecuteTime": {
     "end_time": "2025-09-05T02:09:59.620964Z",
     "start_time": "2025-09-05T02:09:44.741707Z"
    }
   },
   "cell_type": "code",
   "source": [
    "from tkinter import Tk, Frame, Button\n",
    "window = Tk()\n",
    "frame = Frame(window)  # 프레임 생성\n",
    "frame.pack()\n",
    "Button(frame, text=\"버튼 1\").pack(side=\"left\")\n",
    "Button(frame, text=\"버튼 2\").pack(side=\"right\")\n",
    "window.mainloop()"
   ],
   "id": "f6e889ec7349b373",
   "outputs": [],
   "execution_count": 5
  },
  {
   "metadata": {
    "ExecuteTime": {
     "end_time": "2025-09-05T02:10:59.721997Z",
     "start_time": "2025-09-05T02:10:34.407498Z"
    }
   },
   "cell_type": "code",
   "source": [
    "from tkinter import Tk, Listbox\n",
    "window = Tk()\n",
    "listbox = Listbox(window)\n",
    "listbox.pack()\n",
    "listbox.insert(0, \"\")\n",
    "listbox.insert(1, \"JavaScript\")\n",
    "listbox.insert(2, \"C++\")\n",
    "window.mainloop()"
   ],
   "id": "74890c69883acf33",
   "outputs": [],
   "execution_count": 6
  },
  {
   "metadata": {
    "ExecuteTime": {
     "end_time": "2025-09-05T02:12:23.267043Z",
     "start_time": "2025-09-05T02:12:05.611430Z"
    }
   },
   "cell_type": "code",
   "source": [
    "from tkinter import Tk, Button\n",
    "window = Tk()\n",
    "Button(window, text=\"위\").pack(side=\"top\")\n",
    "Button(window, text=\"아래\").pack(side=\"bottom\")\n",
    "window.mainloop()"
   ],
   "id": "4e66f302341cfd82",
   "outputs": [],
   "execution_count": 7
  },
  {
   "metadata": {
    "ExecuteTime": {
     "end_time": "2025-09-05T02:13:21.732831Z",
     "start_time": "2025-09-05T02:12:47.856486Z"
    }
   },
   "cell_type": "code",
   "source": [
    "from tkinter import Tk, Label, Entry\n",
    "window = Tk()\n",
    "Label(window, text=\"이름\").grid(row=0, column=0)\n",
    "Entry(window).grid(row=0, column=1)\n",
    "Label(window, text=\"이메일\").grid(row=1, column=0)\n",
    "Entry(window).grid(row=1, column=1)\n",
    "window.mainloop()"
   ],
   "id": "1f3baeb5c8d2533",
   "outputs": [],
   "execution_count": 8
  },
  {
   "metadata": {
    "ExecuteTime": {
     "end_time": "2025-09-05T02:14:23.249042Z",
     "start_time": "2025-09-05T02:13:58.864656Z"
    }
   },
   "cell_type": "code",
   "source": [
    "from tkinter import Tk, Button\n",
    "window = Tk()\n",
    "btn = Button(window, text=\"절대 위치 버튼\")\n",
    "btn.place(x=50, y=50)  # x=50, y=50 위치에 배치\n",
    "window.mainloop()"
   ],
   "id": "161b819310a64077",
   "outputs": [],
   "execution_count": 9
  },
  {
   "metadata": {
    "ExecuteTime": {
     "end_time": "2025-09-05T02:14:50.166151Z",
     "start_time": "2025-09-05T02:14:44.260595Z"
    }
   },
   "cell_type": "code",
   "source": [
    "from tkinter import Tk, messagebox\n",
    "window = Tk()\n",
    "messagebox.showinfo(\"알림\", \"작업이 완료되었습니다!\")"
   ],
   "id": "7da5187ba951c5d1",
   "outputs": [
    {
     "data": {
      "text/plain": [
       "'ok'"
      ]
     },
     "execution_count": 10,
     "metadata": {},
     "output_type": "execute_result"
    }
   ],
   "execution_count": 10
  },
  {
   "metadata": {
    "ExecuteTime": {
     "end_time": "2025-09-05T02:16:01.809681Z",
     "start_time": "2025-09-05T02:15:48.639028Z"
    }
   },
   "cell_type": "code",
   "source": [
    "from tkinter import Tk, Checkbutton, IntVar\n",
    "window = Tk()\n",
    "chk_var = IntVar()  # 0(체크 해제) 또는 1(체크)\n",
    "chk = Checkbutton(window, text=\"동의합니다\", variable=chk_var)\n",
    "chk.pack()\n",
    "window.mainloop()"
   ],
   "id": "3562ee7f2a58502f",
   "outputs": [],
   "execution_count": 11
  },
  {
   "metadata": {
    "ExecuteTime": {
     "end_time": "2025-09-05T02:16:36.922525Z",
     "start_time": "2025-09-05T02:16:23.232960Z"
    }
   },
   "cell_type": "code",
   "source": [
    "from tkinter import Tk, Radiobutton, IntVar\n",
    "window = Tk()\n",
    "radio_var = IntVar()\n",
    "Radiobutton(window, text=\"옵션 1\", variable=radio_var, value=1).pack()\n",
    "Radiobutton(window, text=\"옵션 2\", variable=radio_var, value=2).pack()\n",
    "window.mainloop()"
   ],
   "id": "2443b02bebb25f3",
   "outputs": [],
   "execution_count": 12
  },
  {
   "metadata": {
    "ExecuteTime": {
     "end_time": "2025-09-05T02:17:26.349049Z",
     "start_time": "2025-09-05T02:17:12.799979Z"
    }
   },
   "cell_type": "code",
   "source": [
    "from tkinter import Tk, Text, Scrollbar\n",
    "window = Tk()\n",
    "text = Text(window, height=10, width=40)\n",
    "text.pack(side=\"left\")\n",
    "scroll = Scrollbar(window, command=text.yview)\n",
    "scroll.pack(side=\"right\", fill=\"y\")\n",
    "text.config(yscrollcommand=scroll.set)\n",
    "window.mainloop()"
   ],
   "id": "2174f5a8e56f10e6",
   "outputs": [],
   "execution_count": 13
  },
  {
   "metadata": {
    "ExecuteTime": {
     "end_time": "2025-09-05T02:18:25.122306Z",
     "start_time": "2025-09-05T02:17:51.762066Z"
    }
   },
   "cell_type": "code",
   "source": [
    "from tkinter import Tk, Toplevel, Button\n",
    "window = Tk()\n",
    "def open_new_window():\n",
    "    new_win = Toplevel(window)\n",
    "    new_win.title(\"새 창\")\n",
    "    new_win.geometry(\"300x200\")\n",
    "Button(window, text=\"새 창 열기\", command=open_new_window).pack()\n",
    "window.mainloop()"
   ],
   "id": "e64cd7247d3349a1",
   "outputs": [],
   "execution_count": 14
  },
  {
   "metadata": {
    "ExecuteTime": {
     "end_time": "2025-09-05T02:18:46.831755Z",
     "start_time": "2025-09-05T02:18:39.077083Z"
    }
   },
   "cell_type": "code",
   "source": [
    "from tkinter import Tk, Spinbox\n",
    "window = Tk()\n",
    "spinbox = Spinbox(window, from_=1, to=10)\n",
    "spinbox.pack()\n",
    "window.mainloop()"
   ],
   "id": "b49b8e95ccfa0e53",
   "outputs": [],
   "execution_count": 15
  },
  {
   "metadata": {
    "ExecuteTime": {
     "end_time": "2025-09-05T02:19:28.980691Z",
     "start_time": "2025-09-05T02:19:15.980434Z"
    }
   },
   "cell_type": "code",
   "source": [
    "from tkinter import Tk\n",
    "from tkinter.ttk import Combobox\n",
    "window = Tk()\n",
    "combo = Combobox(window, values=[\"\", \"Java\", \"C++\"])\n",
    "combo.pack()\n",
    "window.mainloop()"
   ],
   "id": "878d403b73ff7bd3",
   "outputs": [],
   "execution_count": 16
  },
  {
   "metadata": {
    "ExecuteTime": {
     "end_time": "2025-09-05T02:20:08.848730Z",
     "start_time": "2025-09-05T02:19:59.584518Z"
    }
   },
   "cell_type": "code",
   "source": [
    "from tkinter import Tk, Canvas\n",
    "window = Tk()\n",
    "canvas = Canvas(window, width=200, height=100)\n",
    "canvas.pack()\n",
    "canvas.create_rectangle(50, 20, 150, 80, fill=\"blue\")\n",
    " # 파란색 사각형\n",
    "window.mainloop()"
   ],
   "id": "f6dea49f08ce8483",
   "outputs": [],
   "execution_count": 18
  },
  {
   "metadata": {},
   "cell_type": "code",
   "outputs": [],
   "execution_count": null,
   "source": [
    "# 이미지 확장자를 gif 만 지원하는 관계로\n",
    "# 다른 라이브러리 대체, Pillow\n",
    "# pip install Pillow\n",
    "# 간단 사용법\n",
    "# 임포트, 순서0\n",
    "from PIL import ImageTk, Image\n",
    "# Pillow 라이브러리에서 필요한 모듈 가져오기\n",
    "# 사용 방법\n",
    "# 순서1\n",
    "# image_file = Image.open(\"test1.jpg\")\n",
    "#\n",
    "# Pillow 이미지를 Tkinter에서 사용할 수 있는 PhotoImage 객체로 변환합니다.\n",
    "# 순서2\n",
    "#     img = ImageTk.PhotoImage(image_file)\n",
    "# 순서3\n",
    "# label = Label(window, image=img)"
   ],
   "id": "ee66b570e6660bf8"
  },
  {
   "metadata": {
    "ExecuteTime": {
     "end_time": "2025-09-05T02:34:05.483237Z",
     "start_time": "2025-09-05T02:34:05.358800Z"
    }
   },
   "cell_type": "code",
   "source": [
    "# 라이브러리 충돌, 버전 확인 필요.\n",
    "from tkinter import Tk, Label, PhotoImage\n",
    "from PIL import ImageTk, Image\n",
    "\n",
    "window = Tk()\n",
    "image_file = Image.open(\"test1.jpg\")\n",
    "resized_image = image_file.resize((500, 350), Image.Resampling.LANCZOS)\n",
    "# img = ImageTk.PhotoImage(image_file)\n",
    "label = Label(window, image=resized_image)\n",
    "label.image = resized_image\n",
    "label.pack()\n",
    "window.mainloop()"
   ],
   "id": "e014d4373816275e",
   "outputs": [
    {
     "ename": "TclError",
     "evalue": "image \"pyimage9\" doesn't exist",
     "output_type": "error",
     "traceback": [
      "\u001B[1;31m---------------------------------------------------------------------------\u001B[0m",
      "\u001B[1;31mTclError\u001B[0m                                  Traceback (most recent call last)",
      "Cell \u001B[1;32mIn[28], line 9\u001B[0m\n\u001B[0;32m      6\u001B[0m resized_image \u001B[38;5;241m=\u001B[39m image_file\u001B[38;5;241m.\u001B[39mresize((\u001B[38;5;241m500\u001B[39m, \u001B[38;5;241m350\u001B[39m), Image\u001B[38;5;241m.\u001B[39mResampling\u001B[38;5;241m.\u001B[39mLANCZOS)\n\u001B[0;32m      7\u001B[0m img \u001B[38;5;241m=\u001B[39m ImageTk\u001B[38;5;241m.\u001B[39mPhotoImage(resized_image)  \u001B[38;5;66;03m# 수정: resized_image를 사용해야 함\u001B[39;00m\n\u001B[1;32m----> 9\u001B[0m label \u001B[38;5;241m=\u001B[39m \u001B[43mLabel\u001B[49m\u001B[43m(\u001B[49m\u001B[43mwindow\u001B[49m\u001B[43m,\u001B[49m\u001B[43m \u001B[49m\u001B[43mimage\u001B[49m\u001B[38;5;241;43m=\u001B[39;49m\u001B[43mimg\u001B[49m\u001B[43m)\u001B[49m\n\u001B[0;32m     10\u001B[0m label\u001B[38;5;241m.\u001B[39mimage \u001B[38;5;241m=\u001B[39m img  \u001B[38;5;66;03m# 이미지 참조 유지 (가비지 컬렉션 방지)\u001B[39;00m\n\u001B[0;32m     11\u001B[0m label\u001B[38;5;241m.\u001B[39mpack()\n",
      "File \u001B[1;32mC:\\Program Files\\Python313\\Lib\\tkinter\\__init__.py:3367\u001B[0m, in \u001B[0;36mLabel.__init__\u001B[1;34m(self, master, cnf, **kw)\u001B[0m\n\u001B[0;32m   3349\u001B[0m \u001B[38;5;28;01mdef\u001B[39;00m\u001B[38;5;250m \u001B[39m\u001B[38;5;21m__init__\u001B[39m(\u001B[38;5;28mself\u001B[39m, master\u001B[38;5;241m=\u001B[39m\u001B[38;5;28;01mNone\u001B[39;00m, cnf\u001B[38;5;241m=\u001B[39m{}, \u001B[38;5;241m*\u001B[39m\u001B[38;5;241m*\u001B[39mkw):\n\u001B[0;32m   3350\u001B[0m \u001B[38;5;250m    \u001B[39m\u001B[38;5;124;03m\"\"\"Construct a label widget with the parent MASTER.\u001B[39;00m\n\u001B[0;32m   3351\u001B[0m \n\u001B[0;32m   3352\u001B[0m \u001B[38;5;124;03m    STANDARD OPTIONS\u001B[39;00m\n\u001B[1;32m   (...)\u001B[0m\n\u001B[0;32m   3365\u001B[0m \n\u001B[0;32m   3366\u001B[0m \u001B[38;5;124;03m    \"\"\"\u001B[39;00m\n\u001B[1;32m-> 3367\u001B[0m     \u001B[43mWidget\u001B[49m\u001B[38;5;241;43m.\u001B[39;49m\u001B[38;5;21;43m__init__\u001B[39;49m\u001B[43m(\u001B[49m\u001B[38;5;28;43mself\u001B[39;49m\u001B[43m,\u001B[49m\u001B[43m \u001B[49m\u001B[43mmaster\u001B[49m\u001B[43m,\u001B[49m\u001B[43m \u001B[49m\u001B[38;5;124;43m'\u001B[39;49m\u001B[38;5;124;43mlabel\u001B[39;49m\u001B[38;5;124;43m'\u001B[39;49m\u001B[43m,\u001B[49m\u001B[43m \u001B[49m\u001B[43mcnf\u001B[49m\u001B[43m,\u001B[49m\u001B[43m \u001B[49m\u001B[43mkw\u001B[49m\u001B[43m)\u001B[49m\n",
      "File \u001B[1;32mC:\\Program Files\\Python313\\Lib\\tkinter\\__init__.py:2780\u001B[0m, in \u001B[0;36mBaseWidget.__init__\u001B[1;34m(self, master, widgetName, cnf, kw, extra)\u001B[0m\n\u001B[0;32m   2778\u001B[0m \u001B[38;5;28;01mfor\u001B[39;00m k, v \u001B[38;5;129;01min\u001B[39;00m classes:\n\u001B[0;32m   2779\u001B[0m     \u001B[38;5;28;01mdel\u001B[39;00m cnf[k]\n\u001B[1;32m-> 2780\u001B[0m \u001B[38;5;28;43mself\u001B[39;49m\u001B[38;5;241;43m.\u001B[39;49m\u001B[43mtk\u001B[49m\u001B[38;5;241;43m.\u001B[39;49m\u001B[43mcall\u001B[49m\u001B[43m(\u001B[49m\n\u001B[0;32m   2781\u001B[0m \u001B[43m    \u001B[49m\u001B[43m(\u001B[49m\u001B[43mwidgetName\u001B[49m\u001B[43m,\u001B[49m\u001B[43m \u001B[49m\u001B[38;5;28;43mself\u001B[39;49m\u001B[38;5;241;43m.\u001B[39;49m\u001B[43m_w\u001B[49m\u001B[43m)\u001B[49m\u001B[43m \u001B[49m\u001B[38;5;241;43m+\u001B[39;49m\u001B[43m \u001B[49m\u001B[43mextra\u001B[49m\u001B[43m \u001B[49m\u001B[38;5;241;43m+\u001B[39;49m\u001B[43m \u001B[49m\u001B[38;5;28;43mself\u001B[39;49m\u001B[38;5;241;43m.\u001B[39;49m\u001B[43m_options\u001B[49m\u001B[43m(\u001B[49m\u001B[43mcnf\u001B[49m\u001B[43m)\u001B[49m\u001B[43m)\u001B[49m\n\u001B[0;32m   2782\u001B[0m \u001B[38;5;28;01mfor\u001B[39;00m k, v \u001B[38;5;129;01min\u001B[39;00m classes:\n\u001B[0;32m   2783\u001B[0m     k\u001B[38;5;241m.\u001B[39mconfigure(\u001B[38;5;28mself\u001B[39m, v)\n",
      "\u001B[1;31mTclError\u001B[0m: image \"pyimage9\" doesn't exist"
     ]
    }
   ],
   "execution_count": 28
  },
  {
   "metadata": {
    "ExecuteTime": {
     "end_time": "2025-09-05T02:36:34.553369Z",
     "start_time": "2025-09-05T02:36:09.572690Z"
    }
   },
   "cell_type": "code",
   "source": [
    "from tkinter import Tk, Label\n",
    "window = Tk()\n",
    "label = Label(window, text=\"5초 후 변경됩니다!\")\n",
    "label.pack()\n",
    "def change_text():\n",
    "    label.config(text=\"변경 완료!\")\n",
    "window.after(5000, change_text)  # 5초 후 실행\n",
    "window.mainloop()"
   ],
   "id": "3af42fde249e6378",
   "outputs": [],
   "execution_count": 29
  },
  {
   "metadata": {
    "ExecuteTime": {
     "end_time": "2025-09-05T02:37:48.950469Z",
     "start_time": "2025-09-05T02:37:30.494272Z"
    }
   },
   "cell_type": "code",
   "source": [
    "from tkinter import Tk, Label\n",
    "window = Tk()\n",
    "label = Label(window, text=\"키를 눌러보세요\")\n",
    "label.pack()\n",
    "def key_pressed(event):\n",
    "    label.config(text=f\"'{event.char}' 키가 눌렸습니다\")\n",
    "window.bind(\"<KeyPress>\", key_pressed)\n",
    "window.mainloop()"
   ],
   "id": "2e85455a0c661eb7",
   "outputs": [],
   "execution_count": 30
  }
 ],
 "metadata": {
  "kernelspec": {
   "display_name": "Python 3",
   "language": "python",
   "name": "python3"
  },
  "language_info": {
   "codemirror_mode": {
    "name": "ipython",
    "version": 2
   },
   "file_extension": ".py",
   "mimetype": "text/x-python",
   "name": "python",
   "nbconvert_exporter": "python",
   "pygments_lexer": "ipython2",
   "version": "2.7.6"
  }
 },
 "nbformat": 4,
 "nbformat_minor": 5
}
